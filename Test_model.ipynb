{
 "cells": [
  {
   "cell_type": "code",
   "execution_count": 1,
   "id": "d718c46f-256c-436d-927f-6672823731e8",
   "metadata": {},
   "outputs": [],
   "source": [
    "import os\n",
    "import pandas as pd\n",
    "import numpy as np\n",
    "from numpy import expand_dims\n",
    "import matplotlib.pyplot as plt\n",
    "import matplotlib.image as mpimg\n",
    "from skimage.transform import resize\n",
    "from IPython.display import SVG\n",
    "\n",
    "import tensorflow\n",
    "from keras.models import load_model\n",
    "from tensorflow import keras\n",
    "from tensorflow.keras import applications\n",
    "from tensorflow.keras import optimizers\n",
    "from tensorflow.keras.models import Model, Sequential\n",
    "from tensorflow.keras.preprocessing.image import ImageDataGenerator, load_img, img_to_array\n",
    "from tensorflow.keras.layers import Dense, Flatten, Dropout, BatchNormalization, GlobalAveragePooling2D\n",
    "from tensorflow.keras.applications.inception_v3 import InceptionV3, preprocess_input\n",
    "from tensorflow.keras.utils import to_categorical, model_to_dot, plot_model\n",
    "from tensorflow.keras.callbacks import ModelCheckpoint, EarlyStopping, CSVLogger, ReduceLROnPlateau\n",
    "\n",
    "colab = False  # Type True if using Google Colab, type False if using Jupyter Notebook\n",
    "if colab:\n",
    "    from google.colab import drive\n",
    "    from zipfile import ZipFile\n",
    "\n",
    "tensorflow.random.set_seed(42)"
   ]
  },
  {
   "cell_type": "code",
   "execution_count": 85,
   "id": "52e13c72-72d5-4be6-823d-0e9711d338d2",
   "metadata": {
    "tags": []
   },
   "outputs": [],
   "source": [
    "model_es = load_model('./model_data_softmax/')"
   ]
  },
  {
   "cell_type": "code",
   "execution_count": 3,
   "id": "ae15fbc6-7e7f-4719-ac29-6d80cfc0f01c",
   "metadata": {},
   "outputs": [],
   "source": [
    "img_width, img_height = 224, 224 \n",
    "channels = 3\n",
    "batch_size = 64\n",
    "#num_images= 50\n",
    "image_arr_size= img_width * img_height * channels"
   ]
  },
  {
   "cell_type": "code",
   "execution_count": 84,
   "id": "ffadc567-f064-417f-a60d-a7f2374c7397",
   "metadata": {},
   "outputs": [],
   "source": [
    "train_data_path = './Images/'\n",
    "test_data_path = './Testing_images/'"
   ]
  },
  {
   "cell_type": "code",
   "execution_count": 5,
   "id": "91c39bf8-1792-47bf-ab5f-9e69c642e39e",
   "metadata": {},
   "outputs": [
    {
     "name": "stdout",
     "output_type": "stream",
     "text": [
      "Found 17230 images belonging to 120 classes.\n"
     ]
    }
   ],
   "source": [
    "train_datagen = ImageDataGenerator(\n",
    "    rescale= 1./255,\n",
    "    shear_range= 0.2,\n",
    "    zoom_range= 0.2,\n",
    "    horizontal_flip= True,\n",
    "    rotation_range= 20,\n",
    "    width_shift_range= 0.2,\n",
    "    height_shift_range= 0.2,   \n",
    "    validation_split=0.2,\n",
    "\n",
    ")\n",
    "\n",
    "train_generator = train_datagen.flow_from_directory(  \n",
    "    train_data_path,  \n",
    "    target_size= (img_width, img_height), \n",
    "    color_mode= 'rgb',\n",
    "    batch_size= batch_size,  \n",
    "    class_mode= 'categorical',\n",
    "    subset='training',\n",
    "    shuffle= True, \n",
    "    seed= 1337\n",
    ") "
   ]
  },
  {
   "cell_type": "markdown",
   "id": "c6f4d942-78f5-4a6a-84a3-38c710b77bfd",
   "metadata": {},
   "source": [
    "### Make a dict with the class and their indeces "
   ]
  },
  {
   "cell_type": "code",
   "execution_count": 6,
   "id": "03ee692f-5975-4e27-8af0-559f793fd144",
   "metadata": {
    "tags": []
   },
   "outputs": [],
   "source": [
    "train_class_indeces = train_generator.class_indices"
   ]
  },
  {
   "cell_type": "code",
   "execution_count": 7,
   "id": "4cd77d13-3d25-4cff-b3d9-64c758bc181f",
   "metadata": {},
   "outputs": [],
   "source": [
    "train_class_ind = {}\n",
    "for k, i in train_class_indeces.items():\n",
    "    key = k.replace('_', ' ').title()\n",
    "    train_class_ind[i] = key"
   ]
  },
  {
   "cell_type": "code",
   "execution_count": 8,
   "id": "1b9e6965-0c0f-4753-b8c1-e1ee718facde",
   "metadata": {
    "collapsed": true,
    "jupyter": {
     "outputs_hidden": true
    },
    "tags": []
   },
   "outputs": [
    {
     "data": {
      "text/plain": [
       "{0: 'Affenpinscher',\n",
       " 1: 'Afghan',\n",
       " 2: 'African Wild Dog',\n",
       " 3: 'Airedale',\n",
       " 4: 'American Staffordshire Terrier',\n",
       " 5: 'Appenzeller',\n",
       " 6: 'Australian Terrier',\n",
       " 7: 'Basenji',\n",
       " 8: 'Basset',\n",
       " 9: 'Beagle',\n",
       " 10: 'Bedlington Terrier',\n",
       " 11: 'Bernese Mountain Dog',\n",
       " 12: 'Black-And-Tan Coonhound',\n",
       " 13: 'Blenheim Spaniel',\n",
       " 14: 'Bloodhound',\n",
       " 15: 'Bluetick',\n",
       " 16: 'Border Collie',\n",
       " 17: 'Border Terrier',\n",
       " 18: 'Borzoi',\n",
       " 19: 'Boston Bull',\n",
       " 20: 'Bouvier Des Flandres',\n",
       " 21: 'Boxer',\n",
       " 22: 'Brabancon Griffon',\n",
       " 23: 'Briard',\n",
       " 24: 'Brittany Spaniel',\n",
       " 25: 'Bull Mastiff',\n",
       " 26: 'Cairn',\n",
       " 27: 'Cardigan',\n",
       " 28: 'Chesapeake Bay Retriever',\n",
       " 29: 'Chihuahua',\n",
       " 30: 'Chow',\n",
       " 31: 'Clumber',\n",
       " 32: 'Cocker Spaniel',\n",
       " 33: 'Collie',\n",
       " 34: 'Curly Coated Retriever',\n",
       " 35: 'Dandie Dinmont',\n",
       " 36: 'Dhole',\n",
       " 37: 'Dingo',\n",
       " 38: 'Doberman',\n",
       " 39: 'English Foxhound',\n",
       " 40: 'English Setter',\n",
       " 41: 'English Springer',\n",
       " 42: 'Entlebucher',\n",
       " 43: 'Eskimo Dog',\n",
       " 44: 'Flat Coated Retriever',\n",
       " 45: 'French Bulldog',\n",
       " 46: 'German Shepherd',\n",
       " 47: 'German Short Haired Pointer',\n",
       " 48: 'Giant Schnauzer',\n",
       " 49: 'Golden Retriever',\n",
       " 50: 'Gordon Setter',\n",
       " 51: 'Great Dane',\n",
       " 52: 'Great Pyrenees',\n",
       " 53: 'Greater Swiss Mountain Dog',\n",
       " 54: 'Groenendael',\n",
       " 55: 'Ibizan Hound',\n",
       " 56: 'Irish Setter',\n",
       " 57: 'Irish Terrier',\n",
       " 58: 'Irish Water Spaniel',\n",
       " 59: 'Irish Wolfhound',\n",
       " 60: 'Italian Greyhound',\n",
       " 61: 'Japanese Spaniel',\n",
       " 62: 'Keeshond',\n",
       " 63: 'Kelpie',\n",
       " 64: 'Kerry Blue Terrier',\n",
       " 65: 'Komondor',\n",
       " 66: 'Kuvasz',\n",
       " 67: 'Labrador Retriever',\n",
       " 68: 'Lakeland Terrier',\n",
       " 69: 'Leonberg',\n",
       " 70: 'Lhasa',\n",
       " 71: 'Malamute',\n",
       " 72: 'Malinois',\n",
       " 73: 'Maltese',\n",
       " 74: 'Mexican Hairless',\n",
       " 75: 'Miniature Poodle',\n",
       " 76: 'Miniature Schnauzer',\n",
       " 77: 'Newfoundland',\n",
       " 78: 'Norfolk Terrier',\n",
       " 79: 'Norwegian Elkhound',\n",
       " 80: 'Norwich Terrier',\n",
       " 81: 'Old English Sheepdog',\n",
       " 82: 'Otterhound',\n",
       " 83: 'Papillon',\n",
       " 84: 'Pekinese',\n",
       " 85: 'Pembroke Corgi',\n",
       " 86: 'Pinscher',\n",
       " 87: 'Pomeranian',\n",
       " 88: 'Pug',\n",
       " 89: 'Redbone',\n",
       " 90: 'Rhodesian Ridgeback',\n",
       " 91: 'Rottweiler',\n",
       " 92: 'Saint Bernard',\n",
       " 93: 'Saluki',\n",
       " 94: 'Samoyed',\n",
       " 95: 'Schipperke',\n",
       " 96: 'Scotch Terrier',\n",
       " 97: 'Scottish Deerhound',\n",
       " 98: 'Sealyham Terrier',\n",
       " 99: 'Shetland Sheepdog',\n",
       " 100: 'Shih-Tzu',\n",
       " 101: 'Siberian Husky',\n",
       " 102: 'Silky Terrier',\n",
       " 103: 'Soft Coated Wheaten Terrier',\n",
       " 104: 'Staffordshire Bullterrier',\n",
       " 105: 'Standard Poodle',\n",
       " 106: 'Standard Schnauzer',\n",
       " 107: 'Sussex Spaniel',\n",
       " 108: 'Tibetan Mastiff',\n",
       " 109: 'Tibetan Terrier',\n",
       " 110: 'Toy Poodle',\n",
       " 111: 'Toy Terrier',\n",
       " 112: 'Vizsla',\n",
       " 113: 'Walker Hound',\n",
       " 114: 'Weimaraner',\n",
       " 115: 'Welsh Springer Spaniel',\n",
       " 116: 'West Highland White Terrier',\n",
       " 117: 'Whippet',\n",
       " 118: 'Wire Haired Fox Terrier',\n",
       " 119: 'Yorkshire Terrier'}"
      ]
     },
     "execution_count": 8,
     "metadata": {},
     "output_type": "execute_result"
    }
   ],
   "source": [
    "train_class_ind"
   ]
  },
  {
   "cell_type": "code",
   "execution_count": 9,
   "id": "40afd0b7-6b15-4c61-b09d-b497083ced16",
   "metadata": {},
   "outputs": [],
   "source": [
    "train_class_ind_loc = {}\n",
    "for k, i in train_class_ind.items():\n",
    "    train_class_ind_loc[i] = k"
   ]
  },
  {
   "cell_type": "code",
   "execution_count": 10,
   "id": "62321b55-360c-4fd9-94a6-4de0998fce6b",
   "metadata": {
    "collapsed": true,
    "jupyter": {
     "outputs_hidden": true
    },
    "tags": []
   },
   "outputs": [
    {
     "data": {
      "text/plain": [
       "{'Affenpinscher': 0,\n",
       " 'Afghan': 1,\n",
       " 'African Wild Dog': 2,\n",
       " 'Airedale': 3,\n",
       " 'American Staffordshire Terrier': 4,\n",
       " 'Appenzeller': 5,\n",
       " 'Australian Terrier': 6,\n",
       " 'Basenji': 7,\n",
       " 'Basset': 8,\n",
       " 'Beagle': 9,\n",
       " 'Bedlington Terrier': 10,\n",
       " 'Bernese Mountain Dog': 11,\n",
       " 'Black-And-Tan Coonhound': 12,\n",
       " 'Blenheim Spaniel': 13,\n",
       " 'Bloodhound': 14,\n",
       " 'Bluetick': 15,\n",
       " 'Border Collie': 16,\n",
       " 'Border Terrier': 17,\n",
       " 'Borzoi': 18,\n",
       " 'Boston Bull': 19,\n",
       " 'Bouvier Des Flandres': 20,\n",
       " 'Boxer': 21,\n",
       " 'Brabancon Griffon': 22,\n",
       " 'Briard': 23,\n",
       " 'Brittany Spaniel': 24,\n",
       " 'Bull Mastiff': 25,\n",
       " 'Cairn': 26,\n",
       " 'Cardigan': 27,\n",
       " 'Chesapeake Bay Retriever': 28,\n",
       " 'Chihuahua': 29,\n",
       " 'Chow': 30,\n",
       " 'Clumber': 31,\n",
       " 'Cocker Spaniel': 32,\n",
       " 'Collie': 33,\n",
       " 'Curly Coated Retriever': 34,\n",
       " 'Dandie Dinmont': 35,\n",
       " 'Dhole': 36,\n",
       " 'Dingo': 37,\n",
       " 'Doberman': 38,\n",
       " 'English Foxhound': 39,\n",
       " 'English Setter': 40,\n",
       " 'English Springer': 41,\n",
       " 'Entlebucher': 42,\n",
       " 'Eskimo Dog': 43,\n",
       " 'Flat Coated Retriever': 44,\n",
       " 'French Bulldog': 45,\n",
       " 'German Shepherd': 46,\n",
       " 'German Short Haired Pointer': 47,\n",
       " 'Giant Schnauzer': 48,\n",
       " 'Golden Retriever': 49,\n",
       " 'Gordon Setter': 50,\n",
       " 'Great Dane': 51,\n",
       " 'Great Pyrenees': 52,\n",
       " 'Greater Swiss Mountain Dog': 53,\n",
       " 'Groenendael': 54,\n",
       " 'Ibizan Hound': 55,\n",
       " 'Irish Setter': 56,\n",
       " 'Irish Terrier': 57,\n",
       " 'Irish Water Spaniel': 58,\n",
       " 'Irish Wolfhound': 59,\n",
       " 'Italian Greyhound': 60,\n",
       " 'Japanese Spaniel': 61,\n",
       " 'Keeshond': 62,\n",
       " 'Kelpie': 63,\n",
       " 'Kerry Blue Terrier': 64,\n",
       " 'Komondor': 65,\n",
       " 'Kuvasz': 66,\n",
       " 'Labrador Retriever': 67,\n",
       " 'Lakeland Terrier': 68,\n",
       " 'Leonberg': 69,\n",
       " 'Lhasa': 70,\n",
       " 'Malamute': 71,\n",
       " 'Malinois': 72,\n",
       " 'Maltese': 73,\n",
       " 'Mexican Hairless': 74,\n",
       " 'Miniature Poodle': 75,\n",
       " 'Miniature Schnauzer': 76,\n",
       " 'Newfoundland': 77,\n",
       " 'Norfolk Terrier': 78,\n",
       " 'Norwegian Elkhound': 79,\n",
       " 'Norwich Terrier': 80,\n",
       " 'Old English Sheepdog': 81,\n",
       " 'Otterhound': 82,\n",
       " 'Papillon': 83,\n",
       " 'Pekinese': 84,\n",
       " 'Pembroke Corgi': 85,\n",
       " 'Pinscher': 86,\n",
       " 'Pomeranian': 87,\n",
       " 'Pug': 88,\n",
       " 'Redbone': 89,\n",
       " 'Rhodesian Ridgeback': 90,\n",
       " 'Rottweiler': 91,\n",
       " 'Saint Bernard': 92,\n",
       " 'Saluki': 93,\n",
       " 'Samoyed': 94,\n",
       " 'Schipperke': 95,\n",
       " 'Scotch Terrier': 96,\n",
       " 'Scottish Deerhound': 97,\n",
       " 'Sealyham Terrier': 98,\n",
       " 'Shetland Sheepdog': 99,\n",
       " 'Shih-Tzu': 100,\n",
       " 'Siberian Husky': 101,\n",
       " 'Silky Terrier': 102,\n",
       " 'Soft Coated Wheaten Terrier': 103,\n",
       " 'Staffordshire Bullterrier': 104,\n",
       " 'Standard Poodle': 105,\n",
       " 'Standard Schnauzer': 106,\n",
       " 'Sussex Spaniel': 107,\n",
       " 'Tibetan Mastiff': 108,\n",
       " 'Tibetan Terrier': 109,\n",
       " 'Toy Poodle': 110,\n",
       " 'Toy Terrier': 111,\n",
       " 'Vizsla': 112,\n",
       " 'Walker Hound': 113,\n",
       " 'Weimaraner': 114,\n",
       " 'Welsh Springer Spaniel': 115,\n",
       " 'West Highland White Terrier': 116,\n",
       " 'Whippet': 117,\n",
       " 'Wire Haired Fox Terrier': 118,\n",
       " 'Yorkshire Terrier': 119}"
      ]
     },
     "execution_count": 10,
     "metadata": {},
     "output_type": "execute_result"
    }
   ],
   "source": [
    "train_class_ind_loc"
   ]
  },
  {
   "cell_type": "markdown",
   "id": "89d0c1e4-26a1-480c-a289-f5a317fc780a",
   "metadata": {},
   "source": [
    "### Predicting mixed chow-husky"
   ]
  },
  {
   "cell_type": "code",
   "execution_count": 11,
   "id": "5bec5979-2e9b-40ae-844a-3c8af9162626",
   "metadata": {},
   "outputs": [],
   "source": [
    "test_datagen = ImageDataGenerator(\n",
    "    rescale= 1./255, \n",
    "    validation_split=0.2,\n",
    ")"
   ]
  },
  {
   "cell_type": "code",
   "execution_count": 12,
   "id": "a94c21fc-5d9e-4545-9c46-01137b1314d6",
   "metadata": {},
   "outputs": [
    {
     "name": "stdout",
     "output_type": "stream",
     "text": [
      "Found 9 images belonging to 1 classes.\n"
     ]
    }
   ],
   "source": [
    "test_generator = test_datagen.flow_from_directory(\n",
    "    test_data_path,\n",
    "    target_size= (img_width, img_height),\n",
    "    color_mode= 'rgb',\n",
    "    batch_size= batch_size,  \n",
    "    class_mode= 'categorical',\n",
    "    shuffle=False\n",
    ")"
   ]
  },
  {
   "cell_type": "code",
   "execution_count": 13,
   "id": "612ac580-5e9f-494f-bd37-6f5896e94733",
   "metadata": {},
   "outputs": [],
   "source": [
    "file_path = test_generator.filenames"
   ]
  },
  {
   "cell_type": "code",
   "execution_count": 14,
   "id": "df1ac1c9-f0b3-48f5-ba96-e3f7ddd76523",
   "metadata": {},
   "outputs": [
    {
     "data": {
      "text/plain": [
       "['chow_siberian husky/00.jpeg',\n",
       " 'chow_siberian husky/001.jpeg',\n",
       " 'chow_siberian husky/002.jpeg',\n",
       " 'chow_siberian husky/003.jpeg',\n",
       " 'chow_siberian husky/004.jpeg',\n",
       " 'chow_siberian husky/005.jpeg',\n",
       " 'chow_siberian husky/006.jpeg',\n",
       " 'chow_siberian husky/008.jpeg',\n",
       " 'chow_siberian husky/009.jpeg']"
      ]
     },
     "execution_count": 14,
     "metadata": {},
     "output_type": "execute_result"
    }
   ],
   "source": [
    "file_path"
   ]
  },
  {
   "cell_type": "markdown",
   "id": "09cfb4b6-c8b0-447d-9936-c05059f0be37",
   "metadata": {},
   "source": [
    "### Testing it on Model 1"
   ]
  },
  {
   "cell_type": "code",
   "execution_count": 15,
   "id": "8d035176-11d2-4756-9bfc-542ac3ec2935",
   "metadata": {},
   "outputs": [],
   "source": [
    "preds = model_es.predict(test_generator)"
   ]
  },
  {
   "cell_type": "code",
   "execution_count": 16,
   "id": "0e9773ef-6c5d-4606-bfbe-250549b84495",
   "metadata": {},
   "outputs": [
    {
     "data": {
      "text/plain": [
       "(9, 120)"
      ]
     },
     "execution_count": 16,
     "metadata": {},
     "output_type": "execute_result"
    }
   ],
   "source": [
    "preds.shape"
   ]
  },
  {
   "cell_type": "code",
   "execution_count": 17,
   "id": "f4c51f5f-9b91-42b5-a270-a4db84175571",
   "metadata": {},
   "outputs": [
    {
     "data": {
      "text/plain": [
       "2.4995596e-05"
      ]
     },
     "execution_count": 17,
     "metadata": {},
     "output_type": "execute_result"
    }
   ],
   "source": [
    "preds[8][99]"
   ]
  },
  {
   "cell_type": "code",
   "execution_count": 18,
   "id": "6cbbc357-1404-4101-8fc5-b61388af4a50",
   "metadata": {},
   "outputs": [
    {
     "data": {
      "text/plain": [
       "array([[4.2258598e-05, 4.0677699e-04, 3.9922583e-05, ..., 2.1967088e-04,\n",
       "        2.0577078e-04, 2.5885087e-05],\n",
       "       [4.0564964e-07, 8.9490123e-07, 7.4100655e-08, ..., 7.1439126e-07,\n",
       "        2.5207992e-06, 2.1443860e-07],\n",
       "       [1.7680847e-07, 2.2456284e-06, 8.1659630e-07, ..., 7.5932292e-07,\n",
       "        3.6317770e-06, 8.9889011e-07],\n",
       "       ...,\n",
       "       [4.3432974e-05, 5.8837657e-05, 6.3393498e-05, ..., 6.4199201e-05,\n",
       "        7.8271267e-05, 4.7045574e-05],\n",
       "       [7.3148425e-05, 1.1252036e-04, 7.0438124e-05, ..., 1.9984017e-04,\n",
       "        1.7119224e-04, 1.9169549e-04],\n",
       "       [8.0515514e-05, 1.2822423e-05, 9.4722154e-06, ..., 7.4643244e-06,\n",
       "        2.3884699e-05, 2.0231553e-05]], dtype=float32)"
      ]
     },
     "execution_count": 18,
     "metadata": {},
     "output_type": "execute_result"
    }
   ],
   "source": [
    "preds"
   ]
  },
  {
   "cell_type": "code",
   "execution_count": 19,
   "id": "bb6e5b1c-566b-4537-9941-3a0972fc491f",
   "metadata": {},
   "outputs": [],
   "source": [
    "preds_sort = np.argsort(preds, axis=1)"
   ]
  },
  {
   "cell_type": "code",
   "execution_count": 20,
   "id": "43ea40bb-4769-4921-a89b-be2051e90757",
   "metadata": {},
   "outputs": [
    {
     "data": {
      "text/plain": [
       "array([ 78, 107,  98,  10,  12,  35,  22, 119,  97, 102,  31,   2,   0,\n",
       "       106,  42,  59,  57, 103,  19,   5,  50,  51, 114,  39,  17, 116,\n",
       "         6,  41, 113, 112,  58,  45,  76,  28,  53,  40,  96, 100,  13,\n",
       "        48,  24,  65,   8,  20,  38,   4,  11,  79,  80,  70,  73,  21,\n",
       "        26,  74,  47,  86,  82,  55,  25, 111, 118,  90, 117, 109,  68,\n",
       "        88,  89,  71,  83, 104,  34,   9,  61,  15,  64,  81,  91,   3,\n",
       "         1,  92, 115,  23, 105,  32,  72, 101,  44,  94,  77,  67,  14,\n",
       "        93,  56,  75,  84,  66,  18,  60, 110,  69, 108,  52,  27,  43,\n",
       "        29,  62,  63,  16,   7,  95,  46,  36,  54,  49,  85,  99,  37,\n",
       "        87,  30,  33])"
      ]
     },
     "execution_count": 20,
     "metadata": {},
     "output_type": "execute_result"
    }
   ],
   "source": [
    "preds_sort[0]"
   ]
  },
  {
   "cell_type": "code",
   "execution_count": 21,
   "id": "efbb0dda-d5b1-494a-8e68-aec897f10986",
   "metadata": {},
   "outputs": [
    {
     "data": {
      "text/plain": [
       "array([46, 36, 54, 49, 85, 99, 37, 87, 30, 33])"
      ]
     },
     "execution_count": 21,
     "metadata": {},
     "output_type": "execute_result"
    }
   ],
   "source": [
    "preds_sort[0][-10:]"
   ]
  },
  {
   "cell_type": "code",
   "execution_count": 22,
   "id": "aefc3550-1c97-4349-a6c6-92cf1cede32e",
   "metadata": {
    "tags": []
   },
   "outputs": [
    {
     "name": "stdout",
     "output_type": "stream",
     "text": [
      "[46 36 54 49 85 99 37 87 30 33]\n",
      "[ 62 101  69  33  49  87  94  43 108  30]\n",
      "[ 43 108  94  54  79  69  36  62  87  30]\n",
      "[ 71 108  85  49 101  43  87  94  33  30]\n",
      "[63 16 33 46 49 43 37 87 30 85]\n",
      "[119  87  79  80  71  46  29 101  43  85]\n",
      "[ 69  37  36  85 108  46  33 101  71  43]\n",
      "[ 33  54  49  69 108 101  71  94  43  30]\n",
      "[ 33  48  43  94  20 108  77  95  54  30]\n"
     ]
    }
   ],
   "source": [
    "for arr in preds_sort:\n",
    "    print(arr[-10:])"
   ]
  },
  {
   "cell_type": "code",
   "execution_count": 23,
   "id": "591e8204-f976-4d61-8c24-bea25fe6370a",
   "metadata": {},
   "outputs": [],
   "source": [
    "pred_dogs = []\n",
    "i = 0\n",
    "for arr in preds_sort:\n",
    "    temp_list = [(train_class_ind[index], preds[i][index]) for index in arr[-10:]]\n",
    "    pred_dogs.append(temp_list)\n",
    "    i +=1"
   ]
  },
  {
   "cell_type": "code",
   "execution_count": 24,
   "id": "132c668d-e680-495f-8ca4-b8743c8f1058",
   "metadata": {},
   "outputs": [
    {
     "data": {
      "text/plain": [
       "[('Eskimo Dog', 1.5929532e-05),\n",
       " ('Tibetan Mastiff', 2.3478155e-05),\n",
       " ('Samoyed', 3.238641e-05),\n",
       " ('Groenendael', 3.7079753e-05),\n",
       " ('Norwegian Elkhound', 6.967402e-05),\n",
       " ('Leonberg', 9.51926e-05),\n",
       " ('Dhole', 0.00050524954),\n",
       " ('Keeshond', 0.0015143652),\n",
       " ('Pomeranian', 0.0022830039),\n",
       " ('Chow', 0.99522096)]"
      ]
     },
     "execution_count": 24,
     "metadata": {},
     "output_type": "execute_result"
    }
   ],
   "source": [
    "pred_dogs[2]"
   ]
  },
  {
   "cell_type": "code",
   "execution_count": 25,
   "id": "8859e635-4eb2-487d-96f1-214b79c4bee3",
   "metadata": {},
   "outputs": [
    {
     "data": {
      "text/plain": [
       "9"
      ]
     },
     "execution_count": 25,
     "metadata": {},
     "output_type": "execute_result"
    }
   ],
   "source": [
    "len(test_generator.filenames)"
   ]
  },
  {
   "cell_type": "code",
   "execution_count": 26,
   "id": "97ae4ebc-3f77-4ed1-bef1-218e273195f3",
   "metadata": {},
   "outputs": [],
   "source": [
    "predicted_breeds = {}\n",
    "i = 0\n",
    "for arr in preds_sort:\n",
    "    temp_list = [train_class_ind[index] for index in arr[-10:]]\n",
    "    predicted_breeds[file_path[i]] = temp_list\n",
    "    i +=1"
   ]
  },
  {
   "cell_type": "code",
   "execution_count": 27,
   "id": "ae614863-2df2-4e3f-a150-029d5ade6b13",
   "metadata": {
    "tags": []
   },
   "outputs": [
    {
     "data": {
      "text/plain": [
       "{'chow_siberian husky/00.jpeg': ['German Shepherd',\n",
       "  'Dhole',\n",
       "  'Groenendael',\n",
       "  'Golden Retriever',\n",
       "  'Pembroke Corgi',\n",
       "  'Shetland Sheepdog',\n",
       "  'Dingo',\n",
       "  'Pomeranian',\n",
       "  'Chow',\n",
       "  'Collie'],\n",
       " 'chow_siberian husky/001.jpeg': ['Keeshond',\n",
       "  'Siberian Husky',\n",
       "  'Leonberg',\n",
       "  'Collie',\n",
       "  'Golden Retriever',\n",
       "  'Pomeranian',\n",
       "  'Samoyed',\n",
       "  'Eskimo Dog',\n",
       "  'Tibetan Mastiff',\n",
       "  'Chow'],\n",
       " 'chow_siberian husky/002.jpeg': ['Eskimo Dog',\n",
       "  'Tibetan Mastiff',\n",
       "  'Samoyed',\n",
       "  'Groenendael',\n",
       "  'Norwegian Elkhound',\n",
       "  'Leonberg',\n",
       "  'Dhole',\n",
       "  'Keeshond',\n",
       "  'Pomeranian',\n",
       "  'Chow'],\n",
       " 'chow_siberian husky/003.jpeg': ['Malamute',\n",
       "  'Tibetan Mastiff',\n",
       "  'Pembroke Corgi',\n",
       "  'Golden Retriever',\n",
       "  'Siberian Husky',\n",
       "  'Eskimo Dog',\n",
       "  'Pomeranian',\n",
       "  'Samoyed',\n",
       "  'Collie',\n",
       "  'Chow'],\n",
       " 'chow_siberian husky/004.jpeg': ['Kelpie',\n",
       "  'Border Collie',\n",
       "  'Collie',\n",
       "  'German Shepherd',\n",
       "  'Golden Retriever',\n",
       "  'Eskimo Dog',\n",
       "  'Dingo',\n",
       "  'Pomeranian',\n",
       "  'Chow',\n",
       "  'Pembroke Corgi'],\n",
       " 'chow_siberian husky/005.jpeg': ['Yorkshire Terrier',\n",
       "  'Pomeranian',\n",
       "  'Norwegian Elkhound',\n",
       "  'Norwich Terrier',\n",
       "  'Malamute',\n",
       "  'German Shepherd',\n",
       "  'Chihuahua',\n",
       "  'Siberian Husky',\n",
       "  'Eskimo Dog',\n",
       "  'Pembroke Corgi'],\n",
       " 'chow_siberian husky/006.jpeg': ['Leonberg',\n",
       "  'Dingo',\n",
       "  'Dhole',\n",
       "  'Pembroke Corgi',\n",
       "  'Tibetan Mastiff',\n",
       "  'German Shepherd',\n",
       "  'Collie',\n",
       "  'Siberian Husky',\n",
       "  'Malamute',\n",
       "  'Eskimo Dog'],\n",
       " 'chow_siberian husky/008.jpeg': ['Collie',\n",
       "  'Groenendael',\n",
       "  'Golden Retriever',\n",
       "  'Leonberg',\n",
       "  'Tibetan Mastiff',\n",
       "  'Siberian Husky',\n",
       "  'Malamute',\n",
       "  'Samoyed',\n",
       "  'Eskimo Dog',\n",
       "  'Chow'],\n",
       " 'chow_siberian husky/009.jpeg': ['Collie',\n",
       "  'Giant Schnauzer',\n",
       "  'Eskimo Dog',\n",
       "  'Samoyed',\n",
       "  'Bouvier Des Flandres',\n",
       "  'Tibetan Mastiff',\n",
       "  'Newfoundland',\n",
       "  'Schipperke',\n",
       "  'Groenendael',\n",
       "  'Chow']}"
      ]
     },
     "execution_count": 27,
     "metadata": {},
     "output_type": "execute_result"
    }
   ],
   "source": [
    "predicted_breeds"
   ]
  },
  {
   "cell_type": "code",
   "execution_count": 28,
   "id": "559b41c3-1d8c-41d5-a69d-c3de61354b44",
   "metadata": {},
   "outputs": [],
   "source": [
    "pred_breeds = pd.DataFrame(data=predicted_breeds.items(), columns=['filepath', 'predicted_breeds'])"
   ]
  },
  {
   "cell_type": "code",
   "execution_count": 29,
   "id": "a2dc0463-143e-4705-8cda-51cbdcf6301d",
   "metadata": {},
   "outputs": [
    {
     "data": {
      "text/html": [
       "<div>\n",
       "<style scoped>\n",
       "    .dataframe tbody tr th:only-of-type {\n",
       "        vertical-align: middle;\n",
       "    }\n",
       "\n",
       "    .dataframe tbody tr th {\n",
       "        vertical-align: top;\n",
       "    }\n",
       "\n",
       "    .dataframe thead th {\n",
       "        text-align: right;\n",
       "    }\n",
       "</style>\n",
       "<table border=\"1\" class=\"dataframe\">\n",
       "  <thead>\n",
       "    <tr style=\"text-align: right;\">\n",
       "      <th></th>\n",
       "      <th>filepath</th>\n",
       "      <th>predicted_breeds</th>\n",
       "    </tr>\n",
       "  </thead>\n",
       "  <tbody>\n",
       "    <tr>\n",
       "      <th>0</th>\n",
       "      <td>chow_siberian husky/00.jpeg</td>\n",
       "      <td>[German Shepherd, Dhole, Groenendael, Golden R...</td>\n",
       "    </tr>\n",
       "    <tr>\n",
       "      <th>1</th>\n",
       "      <td>chow_siberian husky/001.jpeg</td>\n",
       "      <td>[Keeshond, Siberian Husky, Leonberg, Collie, G...</td>\n",
       "    </tr>\n",
       "    <tr>\n",
       "      <th>2</th>\n",
       "      <td>chow_siberian husky/002.jpeg</td>\n",
       "      <td>[Eskimo Dog, Tibetan Mastiff, Samoyed, Groenen...</td>\n",
       "    </tr>\n",
       "    <tr>\n",
       "      <th>3</th>\n",
       "      <td>chow_siberian husky/003.jpeg</td>\n",
       "      <td>[Malamute, Tibetan Mastiff, Pembroke Corgi, Go...</td>\n",
       "    </tr>\n",
       "    <tr>\n",
       "      <th>4</th>\n",
       "      <td>chow_siberian husky/004.jpeg</td>\n",
       "      <td>[Kelpie, Border Collie, Collie, German Shepher...</td>\n",
       "    </tr>\n",
       "  </tbody>\n",
       "</table>\n",
       "</div>"
      ],
      "text/plain": [
       "                       filepath  \\\n",
       "0   chow_siberian husky/00.jpeg   \n",
       "1  chow_siberian husky/001.jpeg   \n",
       "2  chow_siberian husky/002.jpeg   \n",
       "3  chow_siberian husky/003.jpeg   \n",
       "4  chow_siberian husky/004.jpeg   \n",
       "\n",
       "                                    predicted_breeds  \n",
       "0  [German Shepherd, Dhole, Groenendael, Golden R...  \n",
       "1  [Keeshond, Siberian Husky, Leonberg, Collie, G...  \n",
       "2  [Eskimo Dog, Tibetan Mastiff, Samoyed, Groenen...  \n",
       "3  [Malamute, Tibetan Mastiff, Pembroke Corgi, Go...  \n",
       "4  [Kelpie, Border Collie, Collie, German Shepher...  "
      ]
     },
     "execution_count": 29,
     "metadata": {},
     "output_type": "execute_result"
    }
   ],
   "source": [
    "pred_breeds.head()"
   ]
  },
  {
   "cell_type": "code",
   "execution_count": 30,
   "id": "e4c70ca5-7d21-4343-b94c-79138cfe46b8",
   "metadata": {},
   "outputs": [
    {
     "name": "stdout",
     "output_type": "stream",
     "text": [
      "True\n",
      "True\n",
      "True\n",
      "True\n",
      "True\n",
      "True\n",
      "True\n",
      "True\n",
      "True\n"
     ]
    }
   ],
   "source": [
    "true_breeds = ['Chow', 'Siberian Husky']\n",
    "\n",
    "for ix in pred_breeds.index:\n",
    "    predicted_breeds = pred_breeds.loc[ix, 'predicted_breeds']\n",
    "    print(any([breed in true_breeds for breed in predicted_breeds]))"
   ]
  },
  {
   "cell_type": "code",
   "execution_count": 31,
   "id": "4b029b72-7aa8-4430-811f-34a2789fe0c4",
   "metadata": {},
   "outputs": [
    {
     "data": {
      "text/plain": [
       "list"
      ]
     },
     "execution_count": 31,
     "metadata": {},
     "output_type": "execute_result"
    }
   ],
   "source": [
    "type(pred_breeds.loc[0, 'predicted_breeds'])"
   ]
  },
  {
   "cell_type": "code",
   "execution_count": 32,
   "id": "7376b7e8-46ff-40b8-8a8e-abc7863cd577",
   "metadata": {},
   "outputs": [],
   "source": [
    "pred_breeds.to_csv('predicted_breeds', index=False)"
   ]
  },
  {
   "cell_type": "markdown",
   "id": "2749135d-0f10-41b8-8a14-7208fec8aca2",
   "metadata": {},
   "source": [
    "#### Making df with true values for mixed breeds"
   ]
  },
  {
   "cell_type": "code",
   "execution_count": 33,
   "id": "fd889c6f-dac1-4d1a-baeb-b3822ee37b52",
   "metadata": {},
   "outputs": [
    {
     "data": {
      "text/plain": [
       "['chow_siberian husky/00.jpeg',\n",
       " 'chow_siberian husky/001.jpeg',\n",
       " 'chow_siberian husky/002.jpeg',\n",
       " 'chow_siberian husky/003.jpeg',\n",
       " 'chow_siberian husky/004.jpeg',\n",
       " 'chow_siberian husky/005.jpeg',\n",
       " 'chow_siberian husky/006.jpeg',\n",
       " 'chow_siberian husky/008.jpeg',\n",
       " 'chow_siberian husky/009.jpeg']"
      ]
     },
     "execution_count": 33,
     "metadata": {},
     "output_type": "execute_result"
    }
   ],
   "source": [
    "file_path"
   ]
  },
  {
   "cell_type": "code",
   "execution_count": 34,
   "id": "ed4c64d5-258a-42f1-927c-eb45058926ca",
   "metadata": {},
   "outputs": [],
   "source": [
    "list_breeds = []\n",
    "for i in file_path:\n",
    "    i = i[:i.find('/')]\n",
    "    list_breeds.append(i.split('_'))"
   ]
  },
  {
   "cell_type": "code",
   "execution_count": 35,
   "id": "0a32b35a-465f-42a0-b0ee-bc8948e9d4d0",
   "metadata": {},
   "outputs": [
    {
     "data": {
      "text/plain": [
       "[['chow', 'siberian husky'],\n",
       " ['chow', 'siberian husky'],\n",
       " ['chow', 'siberian husky'],\n",
       " ['chow', 'siberian husky'],\n",
       " ['chow', 'siberian husky'],\n",
       " ['chow', 'siberian husky'],\n",
       " ['chow', 'siberian husky'],\n",
       " ['chow', 'siberian husky'],\n",
       " ['chow', 'siberian husky']]"
      ]
     },
     "execution_count": 35,
     "metadata": {},
     "output_type": "execute_result"
    }
   ],
   "source": [
    "list_breeds"
   ]
  },
  {
   "cell_type": "code",
   "execution_count": 36,
   "id": "f5b85b02-f10a-446b-b674-65d026d86e60",
   "metadata": {},
   "outputs": [],
   "source": [
    "y_true = np.zeros((len(file_path), 120))"
   ]
  },
  {
   "cell_type": "code",
   "execution_count": 37,
   "id": "93a03425-51a5-4d83-861d-3421585872eb",
   "metadata": {},
   "outputs": [
    {
     "data": {
      "text/plain": [
       "(9, 120)"
      ]
     },
     "execution_count": 37,
     "metadata": {},
     "output_type": "execute_result"
    }
   ],
   "source": [
    "y_true.shape"
   ]
  },
  {
   "cell_type": "code",
   "execution_count": 38,
   "id": "ca45953c-c03a-4dc2-907c-c0fa2d204c94",
   "metadata": {},
   "outputs": [
    {
     "data": {
      "text/plain": [
       "array([[0., 0., 0., ..., 0., 0., 0.],\n",
       "       [0., 0., 0., ..., 0., 0., 0.],\n",
       "       [0., 0., 0., ..., 0., 0., 0.],\n",
       "       ...,\n",
       "       [0., 0., 0., ..., 0., 0., 0.],\n",
       "       [0., 0., 0., ..., 0., 0., 0.],\n",
       "       [0., 0., 0., ..., 0., 0., 0.]])"
      ]
     },
     "execution_count": 38,
     "metadata": {},
     "output_type": "execute_result"
    }
   ],
   "source": [
    "y_true"
   ]
  },
  {
   "cell_type": "code",
   "execution_count": 39,
   "id": "fd55862c-bce2-4f5f-a7ce-48a02bef990e",
   "metadata": {},
   "outputs": [],
   "source": [
    "breed = []\n",
    "j = 0\n",
    "for i in list_breeds:\n",
    "    for k, v in train_class_ind_loc.items():\n",
    "        if k.lower() in i:\n",
    "            y_true[j][v] = 1\n",
    "    j += 1"
   ]
  },
  {
   "cell_type": "code",
   "execution_count": 40,
   "id": "2b13d376-c4e6-41b4-9a9e-9d34f0714aa5",
   "metadata": {
    "tags": []
   },
   "outputs": [
    {
     "data": {
      "text/plain": [
       "array([0., 0., 0., 0., 0., 0., 0., 0., 0., 0., 0., 0., 0., 0., 0., 0., 0.,\n",
       "       0., 0., 0., 0., 0., 0., 0., 0., 0., 0., 0., 0., 0., 1., 0., 0., 0.,\n",
       "       0., 0., 0., 0., 0., 0., 0., 0., 0., 0., 0., 0., 0., 0., 0., 0., 0.,\n",
       "       0., 0., 0., 0., 0., 0., 0., 0., 0., 0., 0., 0., 0., 0., 0., 0., 0.,\n",
       "       0., 0., 0., 0., 0., 0., 0., 0., 0., 0., 0., 0., 0., 0., 0., 0., 0.,\n",
       "       0., 0., 0., 0., 0., 0., 0., 0., 0., 0., 0., 0., 0., 0., 0., 0., 1.,\n",
       "       0., 0., 0., 0., 0., 0., 0., 0., 0., 0., 0., 0., 0., 0., 0., 0., 0.,\n",
       "       0.])"
      ]
     },
     "execution_count": 40,
     "metadata": {},
     "output_type": "execute_result"
    }
   ],
   "source": [
    "y_true[8]"
   ]
  },
  {
   "cell_type": "markdown",
   "id": "71cc5a1b-ba4b-48b9-943e-ed5c36c7ca54",
   "metadata": {
    "tags": []
   },
   "source": [
    "### Testing mixed breeds with 'sigmoid_model'"
   ]
  },
  {
   "cell_type": "code",
   "execution_count": 68,
   "id": "cc4f1c6e-e83f-461d-a802-58431866451e",
   "metadata": {
    "collapsed": true,
    "jupyter": {
     "outputs_hidden": true
    },
    "tags": []
   },
   "outputs": [
    {
     "name": "stdout",
     "output_type": "stream",
     "text": [
      "WARNING:tensorflow:Unresolved object in checkpoint: (root).__call__\n",
      "WARNING:tensorflow:Unresolved object in checkpoint: (root).call_and_return_all_conditional_losses\n",
      "WARNING:tensorflow:Unresolved object in checkpoint: (root)._default_save_signature\n",
      "WARNING:tensorflow:Unresolved object in checkpoint: (root).layer_with_weights-0.__call__\n",
      "WARNING:tensorflow:Unresolved object in checkpoint: (root).layer_with_weights-0.call_and_return_all_conditional_losses\n",
      "WARNING:tensorflow:Unresolved object in checkpoint: (root).layer-1.__call__\n",
      "WARNING:tensorflow:Unresolved object in checkpoint: (root).layer-1.call_and_return_all_conditional_losses\n",
      "WARNING:tensorflow:Unresolved object in checkpoint: (root).layer-2.__call__\n",
      "WARNING:tensorflow:Unresolved object in checkpoint: (root).layer-2.call_and_return_all_conditional_losses\n",
      "WARNING:tensorflow:Unresolved object in checkpoint: (root).layer_with_weights-1.__call__\n",
      "WARNING:tensorflow:Unresolved object in checkpoint: (root).layer_with_weights-1.call_and_return_all_conditional_losses\n",
      "WARNING:tensorflow:Unresolved object in checkpoint: (root).signatures.serving_default\n",
      "WARNING:tensorflow:Unresolved object in checkpoint: (root).layer_with_weights-0.layer_with_weights-0.__call__\n",
      "WARNING:tensorflow:Unresolved object in checkpoint: (root).layer_with_weights-0.layer_with_weights-0.call_and_return_all_conditional_losses\n",
      "WARNING:tensorflow:Unresolved object in checkpoint: (root).layer_with_weights-0.layer_with_weights-1.__call__\n",
      "WARNING:tensorflow:Unresolved object in checkpoint: (root).layer_with_weights-0.layer_with_weights-1.call_and_return_all_conditional_losses\n",
      "WARNING:tensorflow:Unresolved object in checkpoint: (root).layer_with_weights-0.layer-3.__call__\n",
      "WARNING:tensorflow:Unresolved object in checkpoint: (root).layer_with_weights-0.layer-3.call_and_return_all_conditional_losses\n",
      "WARNING:tensorflow:Unresolved object in checkpoint: (root).layer_with_weights-0.layer_with_weights-2.__call__\n",
      "WARNING:tensorflow:Unresolved object in checkpoint: (root).layer_with_weights-0.layer_with_weights-2.call_and_return_all_conditional_losses\n",
      "WARNING:tensorflow:Unresolved object in checkpoint: (root).layer_with_weights-0.layer_with_weights-3.__call__\n",
      "WARNING:tensorflow:Unresolved object in checkpoint: (root).layer_with_weights-0.layer_with_weights-3.call_and_return_all_conditional_losses\n",
      "WARNING:tensorflow:Unresolved object in checkpoint: (root).layer_with_weights-0.layer-6.__call__\n",
      "WARNING:tensorflow:Unresolved object in checkpoint: (root).layer_with_weights-0.layer-6.call_and_return_all_conditional_losses\n",
      "WARNING:tensorflow:Unresolved object in checkpoint: (root).layer_with_weights-0.layer_with_weights-4.__call__\n",
      "WARNING:tensorflow:Unresolved object in checkpoint: (root).layer_with_weights-0.layer_with_weights-4.call_and_return_all_conditional_losses\n",
      "WARNING:tensorflow:Unresolved object in checkpoint: (root).layer_with_weights-0.layer_with_weights-5.__call__\n",
      "WARNING:tensorflow:Unresolved object in checkpoint: (root).layer_with_weights-0.layer_with_weights-5.call_and_return_all_conditional_losses\n",
      "WARNING:tensorflow:Unresolved object in checkpoint: (root).layer_with_weights-0.layer-9.__call__\n",
      "WARNING:tensorflow:Unresolved object in checkpoint: (root).layer_with_weights-0.layer-9.call_and_return_all_conditional_losses\n",
      "WARNING:tensorflow:Unresolved object in checkpoint: (root).layer_with_weights-0.layer-10.__call__\n",
      "WARNING:tensorflow:Unresolved object in checkpoint: (root).layer_with_weights-0.layer-10.call_and_return_all_conditional_losses\n",
      "WARNING:tensorflow:Unresolved object in checkpoint: (root).layer_with_weights-0.layer_with_weights-6.__call__\n",
      "WARNING:tensorflow:Unresolved object in checkpoint: (root).layer_with_weights-0.layer_with_weights-6.call_and_return_all_conditional_losses\n",
      "WARNING:tensorflow:Unresolved object in checkpoint: (root).layer_with_weights-0.layer_with_weights-7.__call__\n",
      "WARNING:tensorflow:Unresolved object in checkpoint: (root).layer_with_weights-0.layer_with_weights-7.call_and_return_all_conditional_losses\n",
      "WARNING:tensorflow:Unresolved object in checkpoint: (root).layer_with_weights-0.layer-13.__call__\n",
      "WARNING:tensorflow:Unresolved object in checkpoint: (root).layer_with_weights-0.layer-13.call_and_return_all_conditional_losses\n",
      "WARNING:tensorflow:Unresolved object in checkpoint: (root).layer_with_weights-0.layer_with_weights-8.__call__\n",
      "WARNING:tensorflow:Unresolved object in checkpoint: (root).layer_with_weights-0.layer_with_weights-8.call_and_return_all_conditional_losses\n",
      "WARNING:tensorflow:Unresolved object in checkpoint: (root).layer_with_weights-0.layer_with_weights-9.__call__\n",
      "WARNING:tensorflow:Unresolved object in checkpoint: (root).layer_with_weights-0.layer_with_weights-9.call_and_return_all_conditional_losses\n",
      "WARNING:tensorflow:Unresolved object in checkpoint: (root).layer_with_weights-0.layer-16.__call__\n",
      "WARNING:tensorflow:Unresolved object in checkpoint: (root).layer_with_weights-0.layer-16.call_and_return_all_conditional_losses\n",
      "WARNING:tensorflow:Unresolved object in checkpoint: (root).layer_with_weights-0.layer-17.__call__\n",
      "WARNING:tensorflow:Unresolved object in checkpoint: (root).layer_with_weights-0.layer-17.call_and_return_all_conditional_losses\n",
      "WARNING:tensorflow:Unresolved object in checkpoint: (root).layer_with_weights-0.layer_with_weights-10.__call__\n",
      "WARNING:tensorflow:Unresolved object in checkpoint: (root).layer_with_weights-0.layer_with_weights-10.call_and_return_all_conditional_losses\n",
      "WARNING:tensorflow:Unresolved object in checkpoint: (root).layer_with_weights-0.layer_with_weights-11.__call__\n",
      "WARNING:tensorflow:Unresolved object in checkpoint: (root).layer_with_weights-0.layer_with_weights-11.call_and_return_all_conditional_losses\n",
      "WARNING:tensorflow:Unresolved object in checkpoint: (root).layer_with_weights-0.layer-20.__call__\n",
      "WARNING:tensorflow:Unresolved object in checkpoint: (root).layer_with_weights-0.layer-20.call_and_return_all_conditional_losses\n",
      "WARNING:tensorflow:Unresolved object in checkpoint: (root).layer_with_weights-0.layer_with_weights-12.__call__\n",
      "WARNING:tensorflow:Unresolved object in checkpoint: (root).layer_with_weights-0.layer_with_weights-12.call_and_return_all_conditional_losses\n",
      "WARNING:tensorflow:Unresolved object in checkpoint: (root).layer_with_weights-0.layer_with_weights-13.__call__\n",
      "WARNING:tensorflow:Unresolved object in checkpoint: (root).layer_with_weights-0.layer_with_weights-13.call_and_return_all_conditional_losses\n",
      "WARNING:tensorflow:Unresolved object in checkpoint: (root).layer_with_weights-0.layer_with_weights-14.__call__\n",
      "WARNING:tensorflow:Unresolved object in checkpoint: (root).layer_with_weights-0.layer_with_weights-14.call_and_return_all_conditional_losses\n",
      "WARNING:tensorflow:Unresolved object in checkpoint: (root).layer_with_weights-0.layer_with_weights-15.__call__\n",
      "WARNING:tensorflow:Unresolved object in checkpoint: (root).layer_with_weights-0.layer_with_weights-15.call_and_return_all_conditional_losses\n",
      "WARNING:tensorflow:Unresolved object in checkpoint: (root).layer_with_weights-0.layer-25.__call__\n",
      "WARNING:tensorflow:Unresolved object in checkpoint: (root).layer_with_weights-0.layer-25.call_and_return_all_conditional_losses\n",
      "WARNING:tensorflow:Unresolved object in checkpoint: (root).layer_with_weights-0.layer-26.__call__\n",
      "WARNING:tensorflow:Unresolved object in checkpoint: (root).layer_with_weights-0.layer-26.call_and_return_all_conditional_losses\n",
      "WARNING:tensorflow:Unresolved object in checkpoint: (root).layer_with_weights-0.layer-27.__call__\n",
      "WARNING:tensorflow:Unresolved object in checkpoint: (root).layer_with_weights-0.layer-27.call_and_return_all_conditional_losses\n",
      "WARNING:tensorflow:Unresolved object in checkpoint: (root).layer_with_weights-0.layer_with_weights-16.__call__\n",
      "WARNING:tensorflow:Unresolved object in checkpoint: (root).layer_with_weights-0.layer_with_weights-16.call_and_return_all_conditional_losses\n",
      "WARNING:tensorflow:Unresolved object in checkpoint: (root).layer_with_weights-0.layer_with_weights-17.__call__\n",
      "WARNING:tensorflow:Unresolved object in checkpoint: (root).layer_with_weights-0.layer_with_weights-17.call_and_return_all_conditional_losses\n",
      "WARNING:tensorflow:Unresolved object in checkpoint: (root).layer_with_weights-0.layer_with_weights-18.__call__\n",
      "WARNING:tensorflow:Unresolved object in checkpoint: (root).layer_with_weights-0.layer_with_weights-18.call_and_return_all_conditional_losses\n",
      "WARNING:tensorflow:Unresolved object in checkpoint: (root).layer_with_weights-0.layer_with_weights-19.__call__\n",
      "WARNING:tensorflow:Unresolved object in checkpoint: (root).layer_with_weights-0.layer_with_weights-19.call_and_return_all_conditional_losses\n",
      "WARNING:tensorflow:Unresolved object in checkpoint: (root).layer_with_weights-0.layer_with_weights-20.__call__\n",
      "WARNING:tensorflow:Unresolved object in checkpoint: (root).layer_with_weights-0.layer_with_weights-20.call_and_return_all_conditional_losses\n",
      "WARNING:tensorflow:Unresolved object in checkpoint: (root).layer_with_weights-0.layer_with_weights-21.__call__\n",
      "WARNING:tensorflow:Unresolved object in checkpoint: (root).layer_with_weights-0.layer_with_weights-21.call_and_return_all_conditional_losses\n",
      "WARNING:tensorflow:Unresolved object in checkpoint: (root).layer_with_weights-0.layer_with_weights-22.__call__\n",
      "WARNING:tensorflow:Unresolved object in checkpoint: (root).layer_with_weights-0.layer_with_weights-22.call_and_return_all_conditional_losses\n",
      "WARNING:tensorflow:Unresolved object in checkpoint: (root).layer_with_weights-0.layer_with_weights-23.__call__\n",
      "WARNING:tensorflow:Unresolved object in checkpoint: (root).layer_with_weights-0.layer_with_weights-23.call_and_return_all_conditional_losses\n",
      "WARNING:tensorflow:Unresolved object in checkpoint: (root).layer_with_weights-0.layer-36.__call__\n",
      "WARNING:tensorflow:Unresolved object in checkpoint: (root).layer_with_weights-0.layer-36.call_and_return_all_conditional_losses\n",
      "WARNING:tensorflow:Unresolved object in checkpoint: (root).layer_with_weights-0.layer-37.__call__\n",
      "WARNING:tensorflow:Unresolved object in checkpoint: (root).layer_with_weights-0.layer-37.call_and_return_all_conditional_losses\n",
      "WARNING:tensorflow:Unresolved object in checkpoint: (root).layer_with_weights-0.layer-38.__call__\n",
      "WARNING:tensorflow:Unresolved object in checkpoint: (root).layer_with_weights-0.layer-38.call_and_return_all_conditional_losses\n",
      "WARNING:tensorflow:Unresolved object in checkpoint: (root).layer_with_weights-0.layer-39.__call__\n",
      "WARNING:tensorflow:Unresolved object in checkpoint: (root).layer_with_weights-0.layer-39.call_and_return_all_conditional_losses\n",
      "WARNING:tensorflow:Unresolved object in checkpoint: (root).layer_with_weights-0.layer-40.__call__\n",
      "WARNING:tensorflow:Unresolved object in checkpoint: (root).layer_with_weights-0.layer-40.call_and_return_all_conditional_losses\n",
      "WARNING:tensorflow:Unresolved object in checkpoint: (root).layer_with_weights-0.layer_with_weights-24.__call__\n",
      "WARNING:tensorflow:Unresolved object in checkpoint: (root).layer_with_weights-0.layer_with_weights-24.call_and_return_all_conditional_losses\n",
      "WARNING:tensorflow:Unresolved object in checkpoint: (root).layer_with_weights-0.layer_with_weights-25.__call__\n",
      "WARNING:tensorflow:Unresolved object in checkpoint: (root).layer_with_weights-0.layer_with_weights-25.call_and_return_all_conditional_losses\n",
      "WARNING:tensorflow:Unresolved object in checkpoint: (root).layer_with_weights-0.layer-43.__call__\n",
      "WARNING:tensorflow:Unresolved object in checkpoint: (root).layer_with_weights-0.layer-43.call_and_return_all_conditional_losses\n",
      "WARNING:tensorflow:Unresolved object in checkpoint: (root).layer_with_weights-0.layer_with_weights-26.__call__\n",
      "WARNING:tensorflow:Unresolved object in checkpoint: (root).layer_with_weights-0.layer_with_weights-26.call_and_return_all_conditional_losses\n",
      "WARNING:tensorflow:Unresolved object in checkpoint: (root).layer_with_weights-0.layer_with_weights-27.__call__\n",
      "WARNING:tensorflow:Unresolved object in checkpoint: (root).layer_with_weights-0.layer_with_weights-27.call_and_return_all_conditional_losses\n",
      "WARNING:tensorflow:Unresolved object in checkpoint: (root).layer_with_weights-0.layer_with_weights-28.__call__\n",
      "WARNING:tensorflow:Unresolved object in checkpoint: (root).layer_with_weights-0.layer_with_weights-28.call_and_return_all_conditional_losses\n",
      "WARNING:tensorflow:Unresolved object in checkpoint: (root).layer_with_weights-0.layer_with_weights-29.__call__\n",
      "WARNING:tensorflow:Unresolved object in checkpoint: (root).layer_with_weights-0.layer_with_weights-29.call_and_return_all_conditional_losses\n",
      "WARNING:tensorflow:Unresolved object in checkpoint: (root).layer_with_weights-0.layer-48.__call__\n",
      "WARNING:tensorflow:Unresolved object in checkpoint: (root).layer_with_weights-0.layer-48.call_and_return_all_conditional_losses\n",
      "WARNING:tensorflow:Unresolved object in checkpoint: (root).layer_with_weights-0.layer-49.__call__\n",
      "WARNING:tensorflow:Unresolved object in checkpoint: (root).layer_with_weights-0.layer-49.call_and_return_all_conditional_losses\n",
      "WARNING:tensorflow:Unresolved object in checkpoint: (root).layer_with_weights-0.layer-50.__call__\n",
      "WARNING:tensorflow:Unresolved object in checkpoint: (root).layer_with_weights-0.layer-50.call_and_return_all_conditional_losses\n",
      "WARNING:tensorflow:Unresolved object in checkpoint: (root).layer_with_weights-0.layer_with_weights-30.__call__\n",
      "WARNING:tensorflow:Unresolved object in checkpoint: (root).layer_with_weights-0.layer_with_weights-30.call_and_return_all_conditional_losses\n",
      "WARNING:tensorflow:Unresolved object in checkpoint: (root).layer_with_weights-0.layer_with_weights-31.__call__\n",
      "WARNING:tensorflow:Unresolved object in checkpoint: (root).layer_with_weights-0.layer_with_weights-31.call_and_return_all_conditional_losses\n",
      "WARNING:tensorflow:Unresolved object in checkpoint: (root).layer_with_weights-0.layer_with_weights-32.__call__\n",
      "WARNING:tensorflow:Unresolved object in checkpoint: (root).layer_with_weights-0.layer_with_weights-32.call_and_return_all_conditional_losses\n",
      "WARNING:tensorflow:Unresolved object in checkpoint: (root).layer_with_weights-0.layer_with_weights-33.__call__\n",
      "WARNING:tensorflow:Unresolved object in checkpoint: (root).layer_with_weights-0.layer_with_weights-33.call_and_return_all_conditional_losses\n",
      "WARNING:tensorflow:Unresolved object in checkpoint: (root).layer_with_weights-0.layer_with_weights-34.__call__\n",
      "WARNING:tensorflow:Unresolved object in checkpoint: (root).layer_with_weights-0.layer_with_weights-34.call_and_return_all_conditional_losses\n",
      "WARNING:tensorflow:Unresolved object in checkpoint: (root).layer_with_weights-0.layer_with_weights-35.__call__\n",
      "WARNING:tensorflow:Unresolved object in checkpoint: (root).layer_with_weights-0.layer_with_weights-35.call_and_return_all_conditional_losses\n",
      "WARNING:tensorflow:Unresolved object in checkpoint: (root).layer_with_weights-0.layer_with_weights-36.__call__\n",
      "WARNING:tensorflow:Unresolved object in checkpoint: (root).layer_with_weights-0.layer_with_weights-36.call_and_return_all_conditional_losses\n",
      "WARNING:tensorflow:Unresolved object in checkpoint: (root).layer_with_weights-0.layer_with_weights-37.__call__\n",
      "WARNING:tensorflow:Unresolved object in checkpoint: (root).layer_with_weights-0.layer_with_weights-37.call_and_return_all_conditional_losses\n",
      "WARNING:tensorflow:Unresolved object in checkpoint: (root).layer_with_weights-0.layer-59.__call__\n",
      "WARNING:tensorflow:Unresolved object in checkpoint: (root).layer_with_weights-0.layer-59.call_and_return_all_conditional_losses\n",
      "WARNING:tensorflow:Unresolved object in checkpoint: (root).layer_with_weights-0.layer-60.__call__\n",
      "WARNING:tensorflow:Unresolved object in checkpoint: (root).layer_with_weights-0.layer-60.call_and_return_all_conditional_losses\n",
      "WARNING:tensorflow:Unresolved object in checkpoint: (root).layer_with_weights-0.layer-61.__call__\n",
      "WARNING:tensorflow:Unresolved object in checkpoint: (root).layer_with_weights-0.layer-61.call_and_return_all_conditional_losses\n",
      "WARNING:tensorflow:Unresolved object in checkpoint: (root).layer_with_weights-0.layer-62.__call__\n",
      "WARNING:tensorflow:Unresolved object in checkpoint: (root).layer_with_weights-0.layer-62.call_and_return_all_conditional_losses\n",
      "WARNING:tensorflow:Unresolved object in checkpoint: (root).layer_with_weights-0.layer-63.__call__\n",
      "WARNING:tensorflow:Unresolved object in checkpoint: (root).layer_with_weights-0.layer-63.call_and_return_all_conditional_losses\n",
      "WARNING:tensorflow:Unresolved object in checkpoint: (root).layer_with_weights-0.layer_with_weights-38.__call__\n",
      "WARNING:tensorflow:Unresolved object in checkpoint: (root).layer_with_weights-0.layer_with_weights-38.call_and_return_all_conditional_losses\n",
      "WARNING:tensorflow:Unresolved object in checkpoint: (root).layer_with_weights-0.layer_with_weights-39.__call__\n",
      "WARNING:tensorflow:Unresolved object in checkpoint: (root).layer_with_weights-0.layer_with_weights-39.call_and_return_all_conditional_losses\n",
      "WARNING:tensorflow:Unresolved object in checkpoint: (root).layer_with_weights-0.layer-66.__call__\n",
      "WARNING:tensorflow:Unresolved object in checkpoint: (root).layer_with_weights-0.layer-66.call_and_return_all_conditional_losses\n",
      "WARNING:tensorflow:Unresolved object in checkpoint: (root).layer_with_weights-0.layer_with_weights-40.__call__\n",
      "WARNING:tensorflow:Unresolved object in checkpoint: (root).layer_with_weights-0.layer_with_weights-40.call_and_return_all_conditional_losses\n",
      "WARNING:tensorflow:Unresolved object in checkpoint: (root).layer_with_weights-0.layer_with_weights-41.__call__\n",
      "WARNING:tensorflow:Unresolved object in checkpoint: (root).layer_with_weights-0.layer_with_weights-41.call_and_return_all_conditional_losses\n",
      "WARNING:tensorflow:Unresolved object in checkpoint: (root).layer_with_weights-0.layer_with_weights-42.__call__\n",
      "WARNING:tensorflow:Unresolved object in checkpoint: (root).layer_with_weights-0.layer_with_weights-42.call_and_return_all_conditional_losses\n",
      "WARNING:tensorflow:Unresolved object in checkpoint: (root).layer_with_weights-0.layer_with_weights-43.__call__\n",
      "WARNING:tensorflow:Unresolved object in checkpoint: (root).layer_with_weights-0.layer_with_weights-43.call_and_return_all_conditional_losses\n",
      "WARNING:tensorflow:Unresolved object in checkpoint: (root).layer_with_weights-0.layer-71.__call__\n",
      "WARNING:tensorflow:Unresolved object in checkpoint: (root).layer_with_weights-0.layer-71.call_and_return_all_conditional_losses\n",
      "WARNING:tensorflow:Unresolved object in checkpoint: (root).layer_with_weights-0.layer-72.__call__\n",
      "WARNING:tensorflow:Unresolved object in checkpoint: (root).layer_with_weights-0.layer-72.call_and_return_all_conditional_losses\n",
      "WARNING:tensorflow:Unresolved object in checkpoint: (root).layer_with_weights-0.layer-73.__call__\n",
      "WARNING:tensorflow:Unresolved object in checkpoint: (root).layer_with_weights-0.layer-73.call_and_return_all_conditional_losses\n",
      "WARNING:tensorflow:Unresolved object in checkpoint: (root).layer_with_weights-0.layer_with_weights-44.__call__\n",
      "WARNING:tensorflow:Unresolved object in checkpoint: (root).layer_with_weights-0.layer_with_weights-44.call_and_return_all_conditional_losses\n",
      "WARNING:tensorflow:Unresolved object in checkpoint: (root).layer_with_weights-0.layer_with_weights-45.__call__\n",
      "WARNING:tensorflow:Unresolved object in checkpoint: (root).layer_with_weights-0.layer_with_weights-45.call_and_return_all_conditional_losses\n",
      "WARNING:tensorflow:Unresolved object in checkpoint: (root).layer_with_weights-0.layer_with_weights-46.__call__\n",
      "WARNING:tensorflow:Unresolved object in checkpoint: (root).layer_with_weights-0.layer_with_weights-46.call_and_return_all_conditional_losses\n",
      "WARNING:tensorflow:Unresolved object in checkpoint: (root).layer_with_weights-0.layer_with_weights-47.__call__\n",
      "WARNING:tensorflow:Unresolved object in checkpoint: (root).layer_with_weights-0.layer_with_weights-47.call_and_return_all_conditional_losses\n",
      "WARNING:tensorflow:Unresolved object in checkpoint: (root).layer_with_weights-0.layer_with_weights-48.__call__\n",
      "WARNING:tensorflow:Unresolved object in checkpoint: (root).layer_with_weights-0.layer_with_weights-48.call_and_return_all_conditional_losses\n",
      "WARNING:tensorflow:Unresolved object in checkpoint: (root).layer_with_weights-0.layer_with_weights-49.__call__\n",
      "WARNING:tensorflow:Unresolved object in checkpoint: (root).layer_with_weights-0.layer_with_weights-49.call_and_return_all_conditional_losses\n",
      "WARNING:tensorflow:Unresolved object in checkpoint: (root).layer_with_weights-0.layer_with_weights-50.__call__\n",
      "WARNING:tensorflow:Unresolved object in checkpoint: (root).layer_with_weights-0.layer_with_weights-50.call_and_return_all_conditional_losses\n",
      "WARNING:tensorflow:Unresolved object in checkpoint: (root).layer_with_weights-0.layer_with_weights-51.__call__\n",
      "WARNING:tensorflow:Unresolved object in checkpoint: (root).layer_with_weights-0.layer_with_weights-51.call_and_return_all_conditional_losses\n",
      "WARNING:tensorflow:Unresolved object in checkpoint: (root).layer_with_weights-0.layer-82.__call__\n",
      "WARNING:tensorflow:Unresolved object in checkpoint: (root).layer_with_weights-0.layer-82.call_and_return_all_conditional_losses\n",
      "WARNING:tensorflow:Unresolved object in checkpoint: (root).layer_with_weights-0.layer-83.__call__\n",
      "WARNING:tensorflow:Unresolved object in checkpoint: (root).layer_with_weights-0.layer-83.call_and_return_all_conditional_losses\n",
      "WARNING:tensorflow:Unresolved object in checkpoint: (root).layer_with_weights-0.layer-84.__call__\n",
      "WARNING:tensorflow:Unresolved object in checkpoint: (root).layer_with_weights-0.layer-84.call_and_return_all_conditional_losses\n",
      "WARNING:tensorflow:Unresolved object in checkpoint: (root).layer_with_weights-0.layer-85.__call__\n",
      "WARNING:tensorflow:Unresolved object in checkpoint: (root).layer_with_weights-0.layer-85.call_and_return_all_conditional_losses\n",
      "WARNING:tensorflow:Unresolved object in checkpoint: (root).layer_with_weights-0.layer-86.__call__\n",
      "WARNING:tensorflow:Unresolved object in checkpoint: (root).layer_with_weights-0.layer-86.call_and_return_all_conditional_losses\n",
      "WARNING:tensorflow:Unresolved object in checkpoint: (root).layer_with_weights-0.layer_with_weights-52.__call__\n",
      "WARNING:tensorflow:Unresolved object in checkpoint: (root).layer_with_weights-0.layer_with_weights-52.call_and_return_all_conditional_losses\n",
      "WARNING:tensorflow:Unresolved object in checkpoint: (root).layer_with_weights-0.layer_with_weights-53.__call__\n",
      "WARNING:tensorflow:Unresolved object in checkpoint: (root).layer_with_weights-0.layer_with_weights-53.call_and_return_all_conditional_losses\n",
      "WARNING:tensorflow:Unresolved object in checkpoint: (root).layer_with_weights-0.layer-89.__call__\n",
      "WARNING:tensorflow:Unresolved object in checkpoint: (root).layer_with_weights-0.layer-89.call_and_return_all_conditional_losses\n",
      "WARNING:tensorflow:Unresolved object in checkpoint: (root).layer_with_weights-0.layer_with_weights-54.__call__\n",
      "WARNING:tensorflow:Unresolved object in checkpoint: (root).layer_with_weights-0.layer_with_weights-54.call_and_return_all_conditional_losses\n",
      "WARNING:tensorflow:Unresolved object in checkpoint: (root).layer_with_weights-0.layer_with_weights-55.__call__\n",
      "WARNING:tensorflow:Unresolved object in checkpoint: (root).layer_with_weights-0.layer_with_weights-55.call_and_return_all_conditional_losses\n",
      "WARNING:tensorflow:Unresolved object in checkpoint: (root).layer_with_weights-0.layer-92.__call__\n",
      "WARNING:tensorflow:Unresolved object in checkpoint: (root).layer_with_weights-0.layer-92.call_and_return_all_conditional_losses\n",
      "WARNING:tensorflow:Unresolved object in checkpoint: (root).layer_with_weights-0.layer_with_weights-56.__call__\n",
      "WARNING:tensorflow:Unresolved object in checkpoint: (root).layer_with_weights-0.layer_with_weights-56.call_and_return_all_conditional_losses\n",
      "WARNING:tensorflow:Unresolved object in checkpoint: (root).layer_with_weights-0.layer_with_weights-57.__call__\n",
      "WARNING:tensorflow:Unresolved object in checkpoint: (root).layer_with_weights-0.layer_with_weights-57.call_and_return_all_conditional_losses\n",
      "WARNING:tensorflow:Unresolved object in checkpoint: (root).layer_with_weights-0.layer_with_weights-58.__call__\n",
      "WARNING:tensorflow:Unresolved object in checkpoint: (root).layer_with_weights-0.layer_with_weights-58.call_and_return_all_conditional_losses\n",
      "WARNING:tensorflow:Unresolved object in checkpoint: (root).layer_with_weights-0.layer_with_weights-59.__call__\n",
      "WARNING:tensorflow:Unresolved object in checkpoint: (root).layer_with_weights-0.layer_with_weights-59.call_and_return_all_conditional_losses\n",
      "WARNING:tensorflow:Unresolved object in checkpoint: (root).layer_with_weights-0.layer-97.__call__\n",
      "WARNING:tensorflow:Unresolved object in checkpoint: (root).layer_with_weights-0.layer-97.call_and_return_all_conditional_losses\n",
      "WARNING:tensorflow:Unresolved object in checkpoint: (root).layer_with_weights-0.layer-98.__call__\n",
      "WARNING:tensorflow:Unresolved object in checkpoint: (root).layer_with_weights-0.layer-98.call_and_return_all_conditional_losses\n",
      "WARNING:tensorflow:Unresolved object in checkpoint: (root).layer_with_weights-0.layer-99.__call__\n",
      "WARNING:tensorflow:Unresolved object in checkpoint: (root).layer_with_weights-0.layer-99.call_and_return_all_conditional_losses\n",
      "WARNING:tensorflow:Unresolved object in checkpoint: (root).layer_with_weights-0.layer-100.__call__\n",
      "WARNING:tensorflow:Unresolved object in checkpoint: (root).layer_with_weights-0.layer-100.call_and_return_all_conditional_losses\n",
      "WARNING:tensorflow:Unresolved object in checkpoint: (root).layer_with_weights-0.layer_with_weights-60.__call__\n",
      "WARNING:tensorflow:Unresolved object in checkpoint: (root).layer_with_weights-0.layer_with_weights-60.call_and_return_all_conditional_losses\n",
      "WARNING:tensorflow:Unresolved object in checkpoint: (root).layer_with_weights-0.layer_with_weights-61.__call__\n",
      "WARNING:tensorflow:Unresolved object in checkpoint: (root).layer_with_weights-0.layer_with_weights-61.call_and_return_all_conditional_losses\n",
      "WARNING:tensorflow:Unresolved object in checkpoint: (root).layer_with_weights-0.layer-103.__call__\n",
      "WARNING:tensorflow:Unresolved object in checkpoint: (root).layer_with_weights-0.layer-103.call_and_return_all_conditional_losses\n",
      "WARNING:tensorflow:Unresolved object in checkpoint: (root).layer_with_weights-0.layer_with_weights-62.__call__\n",
      "WARNING:tensorflow:Unresolved object in checkpoint: (root).layer_with_weights-0.layer_with_weights-62.call_and_return_all_conditional_losses\n",
      "WARNING:tensorflow:Unresolved object in checkpoint: (root).layer_with_weights-0.layer_with_weights-63.__call__\n",
      "WARNING:tensorflow:Unresolved object in checkpoint: (root).layer_with_weights-0.layer_with_weights-63.call_and_return_all_conditional_losses\n",
      "WARNING:tensorflow:Unresolved object in checkpoint: (root).layer_with_weights-0.layer-106.__call__\n",
      "WARNING:tensorflow:Unresolved object in checkpoint: (root).layer_with_weights-0.layer-106.call_and_return_all_conditional_losses\n",
      "WARNING:tensorflow:Unresolved object in checkpoint: (root).layer_with_weights-0.layer_with_weights-64.__call__\n",
      "WARNING:tensorflow:Unresolved object in checkpoint: (root).layer_with_weights-0.layer_with_weights-64.call_and_return_all_conditional_losses\n",
      "WARNING:tensorflow:Unresolved object in checkpoint: (root).layer_with_weights-0.layer_with_weights-65.__call__\n",
      "WARNING:tensorflow:Unresolved object in checkpoint: (root).layer_with_weights-0.layer_with_weights-65.call_and_return_all_conditional_losses\n",
      "WARNING:tensorflow:Unresolved object in checkpoint: (root).layer_with_weights-0.layer_with_weights-66.__call__\n",
      "WARNING:tensorflow:Unresolved object in checkpoint: (root).layer_with_weights-0.layer_with_weights-66.call_and_return_all_conditional_losses\n",
      "WARNING:tensorflow:Unresolved object in checkpoint: (root).layer_with_weights-0.layer_with_weights-67.__call__\n",
      "WARNING:tensorflow:Unresolved object in checkpoint: (root).layer_with_weights-0.layer_with_weights-67.call_and_return_all_conditional_losses\n",
      "WARNING:tensorflow:Unresolved object in checkpoint: (root).layer_with_weights-0.layer-111.__call__\n",
      "WARNING:tensorflow:Unresolved object in checkpoint: (root).layer_with_weights-0.layer-111.call_and_return_all_conditional_losses\n",
      "WARNING:tensorflow:Unresolved object in checkpoint: (root).layer_with_weights-0.layer-112.__call__\n",
      "WARNING:tensorflow:Unresolved object in checkpoint: (root).layer_with_weights-0.layer-112.call_and_return_all_conditional_losses\n",
      "WARNING:tensorflow:Unresolved object in checkpoint: (root).layer_with_weights-0.layer_with_weights-68.__call__\n",
      "WARNING:tensorflow:Unresolved object in checkpoint: (root).layer_with_weights-0.layer_with_weights-68.call_and_return_all_conditional_losses\n",
      "WARNING:tensorflow:Unresolved object in checkpoint: (root).layer_with_weights-0.layer_with_weights-69.__call__\n",
      "WARNING:tensorflow:Unresolved object in checkpoint: (root).layer_with_weights-0.layer_with_weights-69.call_and_return_all_conditional_losses\n",
      "WARNING:tensorflow:Unresolved object in checkpoint: (root).layer_with_weights-0.layer_with_weights-70.__call__\n",
      "WARNING:tensorflow:Unresolved object in checkpoint: (root).layer_with_weights-0.layer_with_weights-70.call_and_return_all_conditional_losses\n",
      "WARNING:tensorflow:Unresolved object in checkpoint: (root).layer_with_weights-0.layer_with_weights-71.__call__\n",
      "WARNING:tensorflow:Unresolved object in checkpoint: (root).layer_with_weights-0.layer_with_weights-71.call_and_return_all_conditional_losses\n",
      "WARNING:tensorflow:Unresolved object in checkpoint: (root).layer_with_weights-0.layer-117.__call__\n",
      "WARNING:tensorflow:Unresolved object in checkpoint: (root).layer_with_weights-0.layer-117.call_and_return_all_conditional_losses\n",
      "WARNING:tensorflow:Unresolved object in checkpoint: (root).layer_with_weights-0.layer-118.__call__\n",
      "WARNING:tensorflow:Unresolved object in checkpoint: (root).layer_with_weights-0.layer-118.call_and_return_all_conditional_losses\n",
      "WARNING:tensorflow:Unresolved object in checkpoint: (root).layer_with_weights-0.layer-119.__call__\n",
      "WARNING:tensorflow:Unresolved object in checkpoint: (root).layer_with_weights-0.layer-119.call_and_return_all_conditional_losses\n",
      "WARNING:tensorflow:Unresolved object in checkpoint: (root).layer_with_weights-0.layer_with_weights-72.__call__\n",
      "WARNING:tensorflow:Unresolved object in checkpoint: (root).layer_with_weights-0.layer_with_weights-72.call_and_return_all_conditional_losses\n",
      "WARNING:tensorflow:Unresolved object in checkpoint: (root).layer_with_weights-0.layer_with_weights-73.__call__\n",
      "WARNING:tensorflow:Unresolved object in checkpoint: (root).layer_with_weights-0.layer_with_weights-73.call_and_return_all_conditional_losses\n",
      "WARNING:tensorflow:Unresolved object in checkpoint: (root).layer_with_weights-0.layer_with_weights-74.__call__\n",
      "WARNING:tensorflow:Unresolved object in checkpoint: (root).layer_with_weights-0.layer_with_weights-74.call_and_return_all_conditional_losses\n",
      "WARNING:tensorflow:Unresolved object in checkpoint: (root).layer_with_weights-0.layer_with_weights-75.__call__\n",
      "WARNING:tensorflow:Unresolved object in checkpoint: (root).layer_with_weights-0.layer_with_weights-75.call_and_return_all_conditional_losses\n",
      "WARNING:tensorflow:Unresolved object in checkpoint: (root).layer_with_weights-0.layer_with_weights-76.__call__\n",
      "WARNING:tensorflow:Unresolved object in checkpoint: (root).layer_with_weights-0.layer_with_weights-76.call_and_return_all_conditional_losses\n",
      "WARNING:tensorflow:Unresolved object in checkpoint: (root).layer_with_weights-0.layer_with_weights-77.__call__\n",
      "WARNING:tensorflow:Unresolved object in checkpoint: (root).layer_with_weights-0.layer_with_weights-77.call_and_return_all_conditional_losses\n",
      "WARNING:tensorflow:Unresolved object in checkpoint: (root).layer_with_weights-0.layer_with_weights-78.__call__\n",
      "WARNING:tensorflow:Unresolved object in checkpoint: (root).layer_with_weights-0.layer_with_weights-78.call_and_return_all_conditional_losses\n",
      "WARNING:tensorflow:Unresolved object in checkpoint: (root).layer_with_weights-0.layer_with_weights-79.__call__\n",
      "WARNING:tensorflow:Unresolved object in checkpoint: (root).layer_with_weights-0.layer_with_weights-79.call_and_return_all_conditional_losses\n",
      "WARNING:tensorflow:Unresolved object in checkpoint: (root).layer_with_weights-0.layer-128.__call__\n",
      "WARNING:tensorflow:Unresolved object in checkpoint: (root).layer_with_weights-0.layer-128.call_and_return_all_conditional_losses\n",
      "WARNING:tensorflow:Unresolved object in checkpoint: (root).layer_with_weights-0.layer-129.__call__\n",
      "WARNING:tensorflow:Unresolved object in checkpoint: (root).layer_with_weights-0.layer-129.call_and_return_all_conditional_losses\n",
      "WARNING:tensorflow:Unresolved object in checkpoint: (root).layer_with_weights-0.layer-130.__call__\n",
      "WARNING:tensorflow:Unresolved object in checkpoint: (root).layer_with_weights-0.layer-130.call_and_return_all_conditional_losses\n",
      "WARNING:tensorflow:Unresolved object in checkpoint: (root).layer_with_weights-0.layer-131.__call__\n",
      "WARNING:tensorflow:Unresolved object in checkpoint: (root).layer_with_weights-0.layer-131.call_and_return_all_conditional_losses\n",
      "WARNING:tensorflow:Unresolved object in checkpoint: (root).layer_with_weights-0.layer-132.__call__\n",
      "WARNING:tensorflow:Unresolved object in checkpoint: (root).layer_with_weights-0.layer-132.call_and_return_all_conditional_losses\n",
      "WARNING:tensorflow:Unresolved object in checkpoint: (root).layer_with_weights-0.layer_with_weights-80.__call__\n",
      "WARNING:tensorflow:Unresolved object in checkpoint: (root).layer_with_weights-0.layer_with_weights-80.call_and_return_all_conditional_losses\n",
      "WARNING:tensorflow:Unresolved object in checkpoint: (root).layer_with_weights-0.layer_with_weights-81.__call__\n",
      "WARNING:tensorflow:Unresolved object in checkpoint: (root).layer_with_weights-0.layer_with_weights-81.call_and_return_all_conditional_losses\n",
      "WARNING:tensorflow:Unresolved object in checkpoint: (root).layer_with_weights-0.layer-135.__call__\n",
      "WARNING:tensorflow:Unresolved object in checkpoint: (root).layer_with_weights-0.layer-135.call_and_return_all_conditional_losses\n",
      "WARNING:tensorflow:Unresolved object in checkpoint: (root).layer_with_weights-0.layer_with_weights-82.__call__\n",
      "WARNING:tensorflow:Unresolved object in checkpoint: (root).layer_with_weights-0.layer_with_weights-82.call_and_return_all_conditional_losses\n",
      "WARNING:tensorflow:Unresolved object in checkpoint: (root).layer_with_weights-0.layer_with_weights-83.__call__\n",
      "WARNING:tensorflow:Unresolved object in checkpoint: (root).layer_with_weights-0.layer_with_weights-83.call_and_return_all_conditional_losses\n",
      "WARNING:tensorflow:Unresolved object in checkpoint: (root).layer_with_weights-0.layer-138.__call__\n",
      "WARNING:tensorflow:Unresolved object in checkpoint: (root).layer_with_weights-0.layer-138.call_and_return_all_conditional_losses\n",
      "WARNING:tensorflow:Unresolved object in checkpoint: (root).layer_with_weights-0.layer_with_weights-84.__call__\n",
      "WARNING:tensorflow:Unresolved object in checkpoint: (root).layer_with_weights-0.layer_with_weights-84.call_and_return_all_conditional_losses\n",
      "WARNING:tensorflow:Unresolved object in checkpoint: (root).layer_with_weights-0.layer_with_weights-85.__call__\n",
      "WARNING:tensorflow:Unresolved object in checkpoint: (root).layer_with_weights-0.layer_with_weights-85.call_and_return_all_conditional_losses\n",
      "WARNING:tensorflow:Unresolved object in checkpoint: (root).layer_with_weights-0.layer_with_weights-86.__call__\n",
      "WARNING:tensorflow:Unresolved object in checkpoint: (root).layer_with_weights-0.layer_with_weights-86.call_and_return_all_conditional_losses\n",
      "WARNING:tensorflow:Unresolved object in checkpoint: (root).layer_with_weights-0.layer_with_weights-87.__call__\n",
      "WARNING:tensorflow:Unresolved object in checkpoint: (root).layer_with_weights-0.layer_with_weights-87.call_and_return_all_conditional_losses\n",
      "WARNING:tensorflow:Unresolved object in checkpoint: (root).layer_with_weights-0.layer-143.__call__\n",
      "WARNING:tensorflow:Unresolved object in checkpoint: (root).layer_with_weights-0.layer-143.call_and_return_all_conditional_losses\n",
      "WARNING:tensorflow:Unresolved object in checkpoint: (root).layer_with_weights-0.layer-144.__call__\n",
      "WARNING:tensorflow:Unresolved object in checkpoint: (root).layer_with_weights-0.layer-144.call_and_return_all_conditional_losses\n",
      "WARNING:tensorflow:Unresolved object in checkpoint: (root).layer_with_weights-0.layer_with_weights-88.__call__\n",
      "WARNING:tensorflow:Unresolved object in checkpoint: (root).layer_with_weights-0.layer_with_weights-88.call_and_return_all_conditional_losses\n",
      "WARNING:tensorflow:Unresolved object in checkpoint: (root).layer_with_weights-0.layer_with_weights-89.__call__\n",
      "WARNING:tensorflow:Unresolved object in checkpoint: (root).layer_with_weights-0.layer_with_weights-89.call_and_return_all_conditional_losses\n",
      "WARNING:tensorflow:Unresolved object in checkpoint: (root).layer_with_weights-0.layer_with_weights-90.__call__\n",
      "WARNING:tensorflow:Unresolved object in checkpoint: (root).layer_with_weights-0.layer_with_weights-90.call_and_return_all_conditional_losses\n",
      "WARNING:tensorflow:Unresolved object in checkpoint: (root).layer_with_weights-0.layer_with_weights-91.__call__\n",
      "WARNING:tensorflow:Unresolved object in checkpoint: (root).layer_with_weights-0.layer_with_weights-91.call_and_return_all_conditional_losses\n",
      "WARNING:tensorflow:Unresolved object in checkpoint: (root).layer_with_weights-0.layer-149.__call__\n",
      "WARNING:tensorflow:Unresolved object in checkpoint: (root).layer_with_weights-0.layer-149.call_and_return_all_conditional_losses\n",
      "WARNING:tensorflow:Unresolved object in checkpoint: (root).layer_with_weights-0.layer-150.__call__\n",
      "WARNING:tensorflow:Unresolved object in checkpoint: (root).layer_with_weights-0.layer-150.call_and_return_all_conditional_losses\n",
      "WARNING:tensorflow:Unresolved object in checkpoint: (root).layer_with_weights-0.layer-151.__call__\n",
      "WARNING:tensorflow:Unresolved object in checkpoint: (root).layer_with_weights-0.layer-151.call_and_return_all_conditional_losses\n",
      "WARNING:tensorflow:Unresolved object in checkpoint: (root).layer_with_weights-0.layer_with_weights-92.__call__\n",
      "WARNING:tensorflow:Unresolved object in checkpoint: (root).layer_with_weights-0.layer_with_weights-92.call_and_return_all_conditional_losses\n",
      "WARNING:tensorflow:Unresolved object in checkpoint: (root).layer_with_weights-0.layer_with_weights-93.__call__\n",
      "WARNING:tensorflow:Unresolved object in checkpoint: (root).layer_with_weights-0.layer_with_weights-93.call_and_return_all_conditional_losses\n",
      "WARNING:tensorflow:Unresolved object in checkpoint: (root).layer_with_weights-0.layer_with_weights-94.__call__\n",
      "WARNING:tensorflow:Unresolved object in checkpoint: (root).layer_with_weights-0.layer_with_weights-94.call_and_return_all_conditional_losses\n",
      "WARNING:tensorflow:Unresolved object in checkpoint: (root).layer_with_weights-0.layer_with_weights-95.__call__\n",
      "WARNING:tensorflow:Unresolved object in checkpoint: (root).layer_with_weights-0.layer_with_weights-95.call_and_return_all_conditional_losses\n",
      "WARNING:tensorflow:Unresolved object in checkpoint: (root).layer_with_weights-0.layer_with_weights-96.__call__\n",
      "WARNING:tensorflow:Unresolved object in checkpoint: (root).layer_with_weights-0.layer_with_weights-96.call_and_return_all_conditional_losses\n",
      "WARNING:tensorflow:Unresolved object in checkpoint: (root).layer_with_weights-0.layer_with_weights-97.__call__\n",
      "WARNING:tensorflow:Unresolved object in checkpoint: (root).layer_with_weights-0.layer_with_weights-97.call_and_return_all_conditional_losses\n",
      "WARNING:tensorflow:Unresolved object in checkpoint: (root).layer_with_weights-0.layer_with_weights-98.__call__\n",
      "WARNING:tensorflow:Unresolved object in checkpoint: (root).layer_with_weights-0.layer_with_weights-98.call_and_return_all_conditional_losses\n",
      "WARNING:tensorflow:Unresolved object in checkpoint: (root).layer_with_weights-0.layer_with_weights-99.__call__\n",
      "WARNING:tensorflow:Unresolved object in checkpoint: (root).layer_with_weights-0.layer_with_weights-99.call_and_return_all_conditional_losses\n",
      "WARNING:tensorflow:Unresolved object in checkpoint: (root).layer_with_weights-0.layer-160.__call__\n",
      "WARNING:tensorflow:Unresolved object in checkpoint: (root).layer_with_weights-0.layer-160.call_and_return_all_conditional_losses\n",
      "WARNING:tensorflow:Unresolved object in checkpoint: (root).layer_with_weights-0.layer-161.__call__\n",
      "WARNING:tensorflow:Unresolved object in checkpoint: (root).layer_with_weights-0.layer-161.call_and_return_all_conditional_losses\n",
      "WARNING:tensorflow:Unresolved object in checkpoint: (root).layer_with_weights-0.layer-162.__call__\n",
      "WARNING:tensorflow:Unresolved object in checkpoint: (root).layer_with_weights-0.layer-162.call_and_return_all_conditional_losses\n",
      "WARNING:tensorflow:Unresolved object in checkpoint: (root).layer_with_weights-0.layer-163.__call__\n",
      "WARNING:tensorflow:Unresolved object in checkpoint: (root).layer_with_weights-0.layer-163.call_and_return_all_conditional_losses\n",
      "WARNING:tensorflow:Unresolved object in checkpoint: (root).layer_with_weights-0.layer-164.__call__\n",
      "WARNING:tensorflow:Unresolved object in checkpoint: (root).layer_with_weights-0.layer-164.call_and_return_all_conditional_losses\n",
      "WARNING:tensorflow:Unresolved object in checkpoint: (root).layer_with_weights-0.layer_with_weights-100.__call__\n",
      "WARNING:tensorflow:Unresolved object in checkpoint: (root).layer_with_weights-0.layer_with_weights-100.call_and_return_all_conditional_losses\n",
      "WARNING:tensorflow:Unresolved object in checkpoint: (root).layer_with_weights-0.layer_with_weights-101.__call__\n",
      "WARNING:tensorflow:Unresolved object in checkpoint: (root).layer_with_weights-0.layer_with_weights-101.call_and_return_all_conditional_losses\n",
      "WARNING:tensorflow:Unresolved object in checkpoint: (root).layer_with_weights-0.layer-167.__call__\n",
      "WARNING:tensorflow:Unresolved object in checkpoint: (root).layer_with_weights-0.layer-167.call_and_return_all_conditional_losses\n",
      "WARNING:tensorflow:Unresolved object in checkpoint: (root).layer_with_weights-0.layer_with_weights-102.__call__\n",
      "WARNING:tensorflow:Unresolved object in checkpoint: (root).layer_with_weights-0.layer_with_weights-102.call_and_return_all_conditional_losses\n",
      "WARNING:tensorflow:Unresolved object in checkpoint: (root).layer_with_weights-0.layer_with_weights-103.__call__\n",
      "WARNING:tensorflow:Unresolved object in checkpoint: (root).layer_with_weights-0.layer_with_weights-103.call_and_return_all_conditional_losses\n",
      "WARNING:tensorflow:Unresolved object in checkpoint: (root).layer_with_weights-0.layer-170.__call__\n",
      "WARNING:tensorflow:Unresolved object in checkpoint: (root).layer_with_weights-0.layer-170.call_and_return_all_conditional_losses\n",
      "WARNING:tensorflow:Unresolved object in checkpoint: (root).layer_with_weights-0.layer_with_weights-104.__call__\n",
      "WARNING:tensorflow:Unresolved object in checkpoint: (root).layer_with_weights-0.layer_with_weights-104.call_and_return_all_conditional_losses\n",
      "WARNING:tensorflow:Unresolved object in checkpoint: (root).layer_with_weights-0.layer_with_weights-105.__call__\n",
      "WARNING:tensorflow:Unresolved object in checkpoint: (root).layer_with_weights-0.layer_with_weights-105.call_and_return_all_conditional_losses\n",
      "WARNING:tensorflow:Unresolved object in checkpoint: (root).layer_with_weights-0.layer_with_weights-106.__call__\n",
      "WARNING:tensorflow:Unresolved object in checkpoint: (root).layer_with_weights-0.layer_with_weights-106.call_and_return_all_conditional_losses\n",
      "WARNING:tensorflow:Unresolved object in checkpoint: (root).layer_with_weights-0.layer_with_weights-107.__call__\n",
      "WARNING:tensorflow:Unresolved object in checkpoint: (root).layer_with_weights-0.layer_with_weights-107.call_and_return_all_conditional_losses\n",
      "WARNING:tensorflow:Unresolved object in checkpoint: (root).layer_with_weights-0.layer-175.__call__\n",
      "WARNING:tensorflow:Unresolved object in checkpoint: (root).layer_with_weights-0.layer-175.call_and_return_all_conditional_losses\n",
      "WARNING:tensorflow:Unresolved object in checkpoint: (root).layer_with_weights-0.layer-176.__call__\n",
      "WARNING:tensorflow:Unresolved object in checkpoint: (root).layer_with_weights-0.layer-176.call_and_return_all_conditional_losses\n",
      "WARNING:tensorflow:Unresolved object in checkpoint: (root).layer_with_weights-0.layer_with_weights-108.__call__\n",
      "WARNING:tensorflow:Unresolved object in checkpoint: (root).layer_with_weights-0.layer_with_weights-108.call_and_return_all_conditional_losses\n",
      "WARNING:tensorflow:Unresolved object in checkpoint: (root).layer_with_weights-0.layer_with_weights-109.__call__\n",
      "WARNING:tensorflow:Unresolved object in checkpoint: (root).layer_with_weights-0.layer_with_weights-109.call_and_return_all_conditional_losses\n",
      "WARNING:tensorflow:Unresolved object in checkpoint: (root).layer_with_weights-0.layer_with_weights-110.__call__\n",
      "WARNING:tensorflow:Unresolved object in checkpoint: (root).layer_with_weights-0.layer_with_weights-110.call_and_return_all_conditional_losses\n",
      "WARNING:tensorflow:Unresolved object in checkpoint: (root).layer_with_weights-0.layer_with_weights-111.__call__\n",
      "WARNING:tensorflow:Unresolved object in checkpoint: (root).layer_with_weights-0.layer_with_weights-111.call_and_return_all_conditional_losses\n",
      "WARNING:tensorflow:Unresolved object in checkpoint: (root).layer_with_weights-0.layer-181.__call__\n",
      "WARNING:tensorflow:Unresolved object in checkpoint: (root).layer_with_weights-0.layer-181.call_and_return_all_conditional_losses\n",
      "WARNING:tensorflow:Unresolved object in checkpoint: (root).layer_with_weights-0.layer-182.__call__\n",
      "WARNING:tensorflow:Unresolved object in checkpoint: (root).layer_with_weights-0.layer-182.call_and_return_all_conditional_losses\n",
      "WARNING:tensorflow:Unresolved object in checkpoint: (root).layer_with_weights-0.layer-183.__call__\n",
      "WARNING:tensorflow:Unresolved object in checkpoint: (root).layer_with_weights-0.layer-183.call_and_return_all_conditional_losses\n",
      "WARNING:tensorflow:Unresolved object in checkpoint: (root).layer_with_weights-0.layer_with_weights-112.__call__\n",
      "WARNING:tensorflow:Unresolved object in checkpoint: (root).layer_with_weights-0.layer_with_weights-112.call_and_return_all_conditional_losses\n",
      "WARNING:tensorflow:Unresolved object in checkpoint: (root).layer_with_weights-0.layer_with_weights-113.__call__\n",
      "WARNING:tensorflow:Unresolved object in checkpoint: (root).layer_with_weights-0.layer_with_weights-113.call_and_return_all_conditional_losses\n",
      "WARNING:tensorflow:Unresolved object in checkpoint: (root).layer_with_weights-0.layer_with_weights-114.__call__\n",
      "WARNING:tensorflow:Unresolved object in checkpoint: (root).layer_with_weights-0.layer_with_weights-114.call_and_return_all_conditional_losses\n",
      "WARNING:tensorflow:Unresolved object in checkpoint: (root).layer_with_weights-0.layer_with_weights-115.__call__\n",
      "WARNING:tensorflow:Unresolved object in checkpoint: (root).layer_with_weights-0.layer_with_weights-115.call_and_return_all_conditional_losses\n",
      "WARNING:tensorflow:Unresolved object in checkpoint: (root).layer_with_weights-0.layer_with_weights-116.__call__\n",
      "WARNING:tensorflow:Unresolved object in checkpoint: (root).layer_with_weights-0.layer_with_weights-116.call_and_return_all_conditional_losses\n",
      "WARNING:tensorflow:Unresolved object in checkpoint: (root).layer_with_weights-0.layer_with_weights-117.__call__\n",
      "WARNING:tensorflow:Unresolved object in checkpoint: (root).layer_with_weights-0.layer_with_weights-117.call_and_return_all_conditional_losses\n",
      "WARNING:tensorflow:Unresolved object in checkpoint: (root).layer_with_weights-0.layer_with_weights-118.__call__\n",
      "WARNING:tensorflow:Unresolved object in checkpoint: (root).layer_with_weights-0.layer_with_weights-118.call_and_return_all_conditional_losses\n",
      "WARNING:tensorflow:Unresolved object in checkpoint: (root).layer_with_weights-0.layer_with_weights-119.__call__\n",
      "WARNING:tensorflow:Unresolved object in checkpoint: (root).layer_with_weights-0.layer_with_weights-119.call_and_return_all_conditional_losses\n",
      "WARNING:tensorflow:Unresolved object in checkpoint: (root).layer_with_weights-0.layer-192.__call__\n",
      "WARNING:tensorflow:Unresolved object in checkpoint: (root).layer_with_weights-0.layer-192.call_and_return_all_conditional_losses\n",
      "WARNING:tensorflow:Unresolved object in checkpoint: (root).layer_with_weights-0.layer-193.__call__\n",
      "WARNING:tensorflow:Unresolved object in checkpoint: (root).layer_with_weights-0.layer-193.call_and_return_all_conditional_losses\n",
      "WARNING:tensorflow:Unresolved object in checkpoint: (root).layer_with_weights-0.layer-194.__call__\n",
      "WARNING:tensorflow:Unresolved object in checkpoint: (root).layer_with_weights-0.layer-194.call_and_return_all_conditional_losses\n",
      "WARNING:tensorflow:Unresolved object in checkpoint: (root).layer_with_weights-0.layer-195.__call__\n",
      "WARNING:tensorflow:Unresolved object in checkpoint: (root).layer_with_weights-0.layer-195.call_and_return_all_conditional_losses\n",
      "WARNING:tensorflow:Unresolved object in checkpoint: (root).layer_with_weights-0.layer-196.__call__\n",
      "WARNING:tensorflow:Unresolved object in checkpoint: (root).layer_with_weights-0.layer-196.call_and_return_all_conditional_losses\n",
      "WARNING:tensorflow:Unresolved object in checkpoint: (root).layer_with_weights-0.layer_with_weights-120.__call__\n",
      "WARNING:tensorflow:Unresolved object in checkpoint: (root).layer_with_weights-0.layer_with_weights-120.call_and_return_all_conditional_losses\n",
      "WARNING:tensorflow:Unresolved object in checkpoint: (root).layer_with_weights-0.layer_with_weights-121.__call__\n",
      "WARNING:tensorflow:Unresolved object in checkpoint: (root).layer_with_weights-0.layer_with_weights-121.call_and_return_all_conditional_losses\n",
      "WARNING:tensorflow:Unresolved object in checkpoint: (root).layer_with_weights-0.layer-199.__call__\n",
      "WARNING:tensorflow:Unresolved object in checkpoint: (root).layer_with_weights-0.layer-199.call_and_return_all_conditional_losses\n",
      "WARNING:tensorflow:Unresolved object in checkpoint: (root).layer_with_weights-0.layer_with_weights-122.__call__\n",
      "WARNING:tensorflow:Unresolved object in checkpoint: (root).layer_with_weights-0.layer_with_weights-122.call_and_return_all_conditional_losses\n",
      "WARNING:tensorflow:Unresolved object in checkpoint: (root).layer_with_weights-0.layer_with_weights-123.__call__\n",
      "WARNING:tensorflow:Unresolved object in checkpoint: (root).layer_with_weights-0.layer_with_weights-123.call_and_return_all_conditional_losses\n",
      "WARNING:tensorflow:Unresolved object in checkpoint: (root).layer_with_weights-0.layer-202.__call__\n",
      "WARNING:tensorflow:Unresolved object in checkpoint: (root).layer_with_weights-0.layer-202.call_and_return_all_conditional_losses\n",
      "WARNING:tensorflow:Unresolved object in checkpoint: (root).layer_with_weights-0.layer_with_weights-124.__call__\n",
      "WARNING:tensorflow:Unresolved object in checkpoint: (root).layer_with_weights-0.layer_with_weights-124.call_and_return_all_conditional_losses\n",
      "WARNING:tensorflow:Unresolved object in checkpoint: (root).layer_with_weights-0.layer_with_weights-125.__call__\n",
      "WARNING:tensorflow:Unresolved object in checkpoint: (root).layer_with_weights-0.layer_with_weights-125.call_and_return_all_conditional_losses\n",
      "WARNING:tensorflow:Unresolved object in checkpoint: (root).layer_with_weights-0.layer_with_weights-126.__call__\n",
      "WARNING:tensorflow:Unresolved object in checkpoint: (root).layer_with_weights-0.layer_with_weights-126.call_and_return_all_conditional_losses\n",
      "WARNING:tensorflow:Unresolved object in checkpoint: (root).layer_with_weights-0.layer_with_weights-127.__call__\n",
      "WARNING:tensorflow:Unresolved object in checkpoint: (root).layer_with_weights-0.layer_with_weights-127.call_and_return_all_conditional_losses\n",
      "WARNING:tensorflow:Unresolved object in checkpoint: (root).layer_with_weights-0.layer-207.__call__\n",
      "WARNING:tensorflow:Unresolved object in checkpoint: (root).layer_with_weights-0.layer-207.call_and_return_all_conditional_losses\n",
      "WARNING:tensorflow:Unresolved object in checkpoint: (root).layer_with_weights-0.layer-208.__call__\n",
      "WARNING:tensorflow:Unresolved object in checkpoint: (root).layer_with_weights-0.layer-208.call_and_return_all_conditional_losses\n",
      "WARNING:tensorflow:Unresolved object in checkpoint: (root).layer_with_weights-0.layer_with_weights-128.__call__\n",
      "WARNING:tensorflow:Unresolved object in checkpoint: (root).layer_with_weights-0.layer_with_weights-128.call_and_return_all_conditional_losses\n",
      "WARNING:tensorflow:Unresolved object in checkpoint: (root).layer_with_weights-0.layer_with_weights-129.__call__\n",
      "WARNING:tensorflow:Unresolved object in checkpoint: (root).layer_with_weights-0.layer_with_weights-129.call_and_return_all_conditional_losses\n",
      "WARNING:tensorflow:Unresolved object in checkpoint: (root).layer_with_weights-0.layer_with_weights-130.__call__\n",
      "WARNING:tensorflow:Unresolved object in checkpoint: (root).layer_with_weights-0.layer_with_weights-130.call_and_return_all_conditional_losses\n",
      "WARNING:tensorflow:Unresolved object in checkpoint: (root).layer_with_weights-0.layer_with_weights-131.__call__\n",
      "WARNING:tensorflow:Unresolved object in checkpoint: (root).layer_with_weights-0.layer_with_weights-131.call_and_return_all_conditional_losses\n",
      "WARNING:tensorflow:Unresolved object in checkpoint: (root).layer_with_weights-0.layer-213.__call__\n",
      "WARNING:tensorflow:Unresolved object in checkpoint: (root).layer_with_weights-0.layer-213.call_and_return_all_conditional_losses\n",
      "WARNING:tensorflow:Unresolved object in checkpoint: (root).layer_with_weights-0.layer-214.__call__\n",
      "WARNING:tensorflow:Unresolved object in checkpoint: (root).layer_with_weights-0.layer-214.call_and_return_all_conditional_losses\n",
      "WARNING:tensorflow:Unresolved object in checkpoint: (root).layer_with_weights-0.layer-215.__call__\n",
      "WARNING:tensorflow:Unresolved object in checkpoint: (root).layer_with_weights-0.layer-215.call_and_return_all_conditional_losses\n",
      "WARNING:tensorflow:Unresolved object in checkpoint: (root).layer_with_weights-0.layer_with_weights-132.__call__\n",
      "WARNING:tensorflow:Unresolved object in checkpoint: (root).layer_with_weights-0.layer_with_weights-132.call_and_return_all_conditional_losses\n",
      "WARNING:tensorflow:Unresolved object in checkpoint: (root).layer_with_weights-0.layer_with_weights-133.__call__\n",
      "WARNING:tensorflow:Unresolved object in checkpoint: (root).layer_with_weights-0.layer_with_weights-133.call_and_return_all_conditional_losses\n",
      "WARNING:tensorflow:Unresolved object in checkpoint: (root).layer_with_weights-0.layer_with_weights-134.__call__\n",
      "WARNING:tensorflow:Unresolved object in checkpoint: (root).layer_with_weights-0.layer_with_weights-134.call_and_return_all_conditional_losses\n",
      "WARNING:tensorflow:Unresolved object in checkpoint: (root).layer_with_weights-0.layer_with_weights-135.__call__\n",
      "WARNING:tensorflow:Unresolved object in checkpoint: (root).layer_with_weights-0.layer_with_weights-135.call_and_return_all_conditional_losses\n",
      "WARNING:tensorflow:Unresolved object in checkpoint: (root).layer_with_weights-0.layer_with_weights-136.__call__\n",
      "WARNING:tensorflow:Unresolved object in checkpoint: (root).layer_with_weights-0.layer_with_weights-136.call_and_return_all_conditional_losses\n",
      "WARNING:tensorflow:Unresolved object in checkpoint: (root).layer_with_weights-0.layer_with_weights-137.__call__\n",
      "WARNING:tensorflow:Unresolved object in checkpoint: (root).layer_with_weights-0.layer_with_weights-137.call_and_return_all_conditional_losses\n",
      "WARNING:tensorflow:Unresolved object in checkpoint: (root).layer_with_weights-0.layer_with_weights-138.__call__\n",
      "WARNING:tensorflow:Unresolved object in checkpoint: (root).layer_with_weights-0.layer_with_weights-138.call_and_return_all_conditional_losses\n",
      "WARNING:tensorflow:Unresolved object in checkpoint: (root).layer_with_weights-0.layer_with_weights-139.__call__\n",
      "WARNING:tensorflow:Unresolved object in checkpoint: (root).layer_with_weights-0.layer_with_weights-139.call_and_return_all_conditional_losses\n",
      "WARNING:tensorflow:Unresolved object in checkpoint: (root).layer_with_weights-0.layer-224.__call__\n",
      "WARNING:tensorflow:Unresolved object in checkpoint: (root).layer_with_weights-0.layer-224.call_and_return_all_conditional_losses\n",
      "WARNING:tensorflow:Unresolved object in checkpoint: (root).layer_with_weights-0.layer-225.__call__\n",
      "WARNING:tensorflow:Unresolved object in checkpoint: (root).layer_with_weights-0.layer-225.call_and_return_all_conditional_losses\n",
      "WARNING:tensorflow:Unresolved object in checkpoint: (root).layer_with_weights-0.layer-226.__call__\n",
      "WARNING:tensorflow:Unresolved object in checkpoint: (root).layer_with_weights-0.layer-226.call_and_return_all_conditional_losses\n",
      "WARNING:tensorflow:Unresolved object in checkpoint: (root).layer_with_weights-0.layer-227.__call__\n",
      "WARNING:tensorflow:Unresolved object in checkpoint: (root).layer_with_weights-0.layer-227.call_and_return_all_conditional_losses\n",
      "WARNING:tensorflow:Unresolved object in checkpoint: (root).layer_with_weights-0.layer-228.__call__\n",
      "WARNING:tensorflow:Unresolved object in checkpoint: (root).layer_with_weights-0.layer-228.call_and_return_all_conditional_losses\n",
      "WARNING:tensorflow:Unresolved object in checkpoint: (root).layer_with_weights-0.layer_with_weights-140.__call__\n",
      "WARNING:tensorflow:Unresolved object in checkpoint: (root).layer_with_weights-0.layer_with_weights-140.call_and_return_all_conditional_losses\n",
      "WARNING:tensorflow:Unresolved object in checkpoint: (root).layer_with_weights-0.layer_with_weights-141.__call__\n",
      "WARNING:tensorflow:Unresolved object in checkpoint: (root).layer_with_weights-0.layer_with_weights-141.call_and_return_all_conditional_losses\n",
      "WARNING:tensorflow:Unresolved object in checkpoint: (root).layer_with_weights-0.layer-231.__call__\n",
      "WARNING:tensorflow:Unresolved object in checkpoint: (root).layer_with_weights-0.layer-231.call_and_return_all_conditional_losses\n",
      "WARNING:tensorflow:Unresolved object in checkpoint: (root).layer_with_weights-0.layer_with_weights-142.__call__\n",
      "WARNING:tensorflow:Unresolved object in checkpoint: (root).layer_with_weights-0.layer_with_weights-142.call_and_return_all_conditional_losses\n",
      "WARNING:tensorflow:Unresolved object in checkpoint: (root).layer_with_weights-0.layer_with_weights-143.__call__\n",
      "WARNING:tensorflow:Unresolved object in checkpoint: (root).layer_with_weights-0.layer_with_weights-143.call_and_return_all_conditional_losses\n",
      "WARNING:tensorflow:Unresolved object in checkpoint: (root).layer_with_weights-0.layer-234.__call__\n",
      "WARNING:tensorflow:Unresolved object in checkpoint: (root).layer_with_weights-0.layer-234.call_and_return_all_conditional_losses\n",
      "WARNING:tensorflow:Unresolved object in checkpoint: (root).layer_with_weights-0.layer_with_weights-144.__call__\n",
      "WARNING:tensorflow:Unresolved object in checkpoint: (root).layer_with_weights-0.layer_with_weights-144.call_and_return_all_conditional_losses\n",
      "WARNING:tensorflow:Unresolved object in checkpoint: (root).layer_with_weights-0.layer_with_weights-145.__call__\n",
      "WARNING:tensorflow:Unresolved object in checkpoint: (root).layer_with_weights-0.layer_with_weights-145.call_and_return_all_conditional_losses\n",
      "WARNING:tensorflow:Unresolved object in checkpoint: (root).layer_with_weights-0.layer_with_weights-146.__call__\n",
      "WARNING:tensorflow:Unresolved object in checkpoint: (root).layer_with_weights-0.layer_with_weights-146.call_and_return_all_conditional_losses\n",
      "WARNING:tensorflow:Unresolved object in checkpoint: (root).layer_with_weights-0.layer_with_weights-147.__call__\n",
      "WARNING:tensorflow:Unresolved object in checkpoint: (root).layer_with_weights-0.layer_with_weights-147.call_and_return_all_conditional_losses\n",
      "WARNING:tensorflow:Unresolved object in checkpoint: (root).layer_with_weights-0.layer-239.__call__\n",
      "WARNING:tensorflow:Unresolved object in checkpoint: (root).layer_with_weights-0.layer-239.call_and_return_all_conditional_losses\n",
      "WARNING:tensorflow:Unresolved object in checkpoint: (root).layer_with_weights-0.layer-240.__call__\n",
      "WARNING:tensorflow:Unresolved object in checkpoint: (root).layer_with_weights-0.layer-240.call_and_return_all_conditional_losses\n",
      "WARNING:tensorflow:Unresolved object in checkpoint: (root).layer_with_weights-0.layer_with_weights-148.__call__\n",
      "WARNING:tensorflow:Unresolved object in checkpoint: (root).layer_with_weights-0.layer_with_weights-148.call_and_return_all_conditional_losses\n",
      "WARNING:tensorflow:Unresolved object in checkpoint: (root).layer_with_weights-0.layer_with_weights-149.__call__\n",
      "WARNING:tensorflow:Unresolved object in checkpoint: (root).layer_with_weights-0.layer_with_weights-149.call_and_return_all_conditional_losses\n",
      "WARNING:tensorflow:Unresolved object in checkpoint: (root).layer_with_weights-0.layer_with_weights-150.__call__\n",
      "WARNING:tensorflow:Unresolved object in checkpoint: (root).layer_with_weights-0.layer_with_weights-150.call_and_return_all_conditional_losses\n",
      "WARNING:tensorflow:Unresolved object in checkpoint: (root).layer_with_weights-0.layer_with_weights-151.__call__\n",
      "WARNING:tensorflow:Unresolved object in checkpoint: (root).layer_with_weights-0.layer_with_weights-151.call_and_return_all_conditional_losses\n",
      "WARNING:tensorflow:Unresolved object in checkpoint: (root).layer_with_weights-0.layer-245.__call__\n",
      "WARNING:tensorflow:Unresolved object in checkpoint: (root).layer_with_weights-0.layer-245.call_and_return_all_conditional_losses\n",
      "WARNING:tensorflow:Unresolved object in checkpoint: (root).layer_with_weights-0.layer-246.__call__\n",
      "WARNING:tensorflow:Unresolved object in checkpoint: (root).layer_with_weights-0.layer-246.call_and_return_all_conditional_losses\n",
      "WARNING:tensorflow:Unresolved object in checkpoint: (root).layer_with_weights-0.layer-247.__call__\n",
      "WARNING:tensorflow:Unresolved object in checkpoint: (root).layer_with_weights-0.layer-247.call_and_return_all_conditional_losses\n",
      "WARNING:tensorflow:Unresolved object in checkpoint: (root).layer_with_weights-0.layer-248.__call__\n",
      "WARNING:tensorflow:Unresolved object in checkpoint: (root).layer_with_weights-0.layer-248.call_and_return_all_conditional_losses\n",
      "WARNING:tensorflow:Unresolved object in checkpoint: (root).layer_with_weights-0.layer_with_weights-152.__call__\n",
      "WARNING:tensorflow:Unresolved object in checkpoint: (root).layer_with_weights-0.layer_with_weights-152.call_and_return_all_conditional_losses\n",
      "WARNING:tensorflow:Unresolved object in checkpoint: (root).layer_with_weights-0.layer_with_weights-153.__call__\n",
      "WARNING:tensorflow:Unresolved object in checkpoint: (root).layer_with_weights-0.layer_with_weights-153.call_and_return_all_conditional_losses\n",
      "WARNING:tensorflow:Unresolved object in checkpoint: (root).layer_with_weights-0.layer-251.__call__\n",
      "WARNING:tensorflow:Unresolved object in checkpoint: (root).layer_with_weights-0.layer-251.call_and_return_all_conditional_losses\n",
      "WARNING:tensorflow:Unresolved object in checkpoint: (root).layer_with_weights-0.layer_with_weights-154.__call__\n",
      "WARNING:tensorflow:Unresolved object in checkpoint: (root).layer_with_weights-0.layer_with_weights-154.call_and_return_all_conditional_losses\n",
      "WARNING:tensorflow:Unresolved object in checkpoint: (root).layer_with_weights-0.layer_with_weights-155.__call__\n",
      "WARNING:tensorflow:Unresolved object in checkpoint: (root).layer_with_weights-0.layer_with_weights-155.call_and_return_all_conditional_losses\n",
      "WARNING:tensorflow:Unresolved object in checkpoint: (root).layer_with_weights-0.layer_with_weights-156.__call__\n",
      "WARNING:tensorflow:Unresolved object in checkpoint: (root).layer_with_weights-0.layer_with_weights-156.call_and_return_all_conditional_losses\n",
      "WARNING:tensorflow:Unresolved object in checkpoint: (root).layer_with_weights-0.layer_with_weights-157.__call__\n",
      "WARNING:tensorflow:Unresolved object in checkpoint: (root).layer_with_weights-0.layer_with_weights-157.call_and_return_all_conditional_losses\n",
      "WARNING:tensorflow:Unresolved object in checkpoint: (root).layer_with_weights-0.layer-256.__call__\n",
      "WARNING:tensorflow:Unresolved object in checkpoint: (root).layer_with_weights-0.layer-256.call_and_return_all_conditional_losses\n",
      "WARNING:tensorflow:Unresolved object in checkpoint: (root).layer_with_weights-0.layer-257.__call__\n",
      "WARNING:tensorflow:Unresolved object in checkpoint: (root).layer_with_weights-0.layer-257.call_and_return_all_conditional_losses\n",
      "WARNING:tensorflow:Unresolved object in checkpoint: (root).layer_with_weights-0.layer_with_weights-158.__call__\n",
      "WARNING:tensorflow:Unresolved object in checkpoint: (root).layer_with_weights-0.layer_with_weights-158.call_and_return_all_conditional_losses\n",
      "WARNING:tensorflow:Unresolved object in checkpoint: (root).layer_with_weights-0.layer_with_weights-159.__call__\n",
      "WARNING:tensorflow:Unresolved object in checkpoint: (root).layer_with_weights-0.layer_with_weights-159.call_and_return_all_conditional_losses\n",
      "WARNING:tensorflow:Unresolved object in checkpoint: (root).layer_with_weights-0.layer_with_weights-160.__call__\n",
      "WARNING:tensorflow:Unresolved object in checkpoint: (root).layer_with_weights-0.layer_with_weights-160.call_and_return_all_conditional_losses\n",
      "WARNING:tensorflow:Unresolved object in checkpoint: (root).layer_with_weights-0.layer_with_weights-161.__call__\n",
      "WARNING:tensorflow:Unresolved object in checkpoint: (root).layer_with_weights-0.layer_with_weights-161.call_and_return_all_conditional_losses\n",
      "WARNING:tensorflow:Unresolved object in checkpoint: (root).layer_with_weights-0.layer-262.__call__\n",
      "WARNING:tensorflow:Unresolved object in checkpoint: (root).layer_with_weights-0.layer-262.call_and_return_all_conditional_losses\n",
      "WARNING:tensorflow:Unresolved object in checkpoint: (root).layer_with_weights-0.layer_with_weights-162.__call__\n",
      "WARNING:tensorflow:Unresolved object in checkpoint: (root).layer_with_weights-0.layer_with_weights-162.call_and_return_all_conditional_losses\n",
      "WARNING:tensorflow:Unresolved object in checkpoint: (root).layer_with_weights-0.layer_with_weights-163.__call__\n",
      "WARNING:tensorflow:Unresolved object in checkpoint: (root).layer_with_weights-0.layer_with_weights-163.call_and_return_all_conditional_losses\n",
      "WARNING:tensorflow:Unresolved object in checkpoint: (root).layer_with_weights-0.layer_with_weights-164.__call__\n",
      "WARNING:tensorflow:Unresolved object in checkpoint: (root).layer_with_weights-0.layer_with_weights-164.call_and_return_all_conditional_losses\n",
      "WARNING:tensorflow:Unresolved object in checkpoint: (root).layer_with_weights-0.layer_with_weights-165.__call__\n",
      "WARNING:tensorflow:Unresolved object in checkpoint: (root).layer_with_weights-0.layer_with_weights-165.call_and_return_all_conditional_losses\n",
      "WARNING:tensorflow:Unresolved object in checkpoint: (root).layer_with_weights-0.layer_with_weights-166.__call__\n",
      "WARNING:tensorflow:Unresolved object in checkpoint: (root).layer_with_weights-0.layer_with_weights-166.call_and_return_all_conditional_losses\n",
      "WARNING:tensorflow:Unresolved object in checkpoint: (root).layer_with_weights-0.layer_with_weights-167.__call__\n",
      "WARNING:tensorflow:Unresolved object in checkpoint: (root).layer_with_weights-0.layer_with_weights-167.call_and_return_all_conditional_losses\n",
      "WARNING:tensorflow:Unresolved object in checkpoint: (root).layer_with_weights-0.layer_with_weights-168.__call__\n",
      "WARNING:tensorflow:Unresolved object in checkpoint: (root).layer_with_weights-0.layer_with_weights-168.call_and_return_all_conditional_losses\n",
      "WARNING:tensorflow:Unresolved object in checkpoint: (root).layer_with_weights-0.layer-270.__call__\n",
      "WARNING:tensorflow:Unresolved object in checkpoint: (root).layer_with_weights-0.layer-270.call_and_return_all_conditional_losses\n",
      "WARNING:tensorflow:Unresolved object in checkpoint: (root).layer_with_weights-0.layer-271.__call__\n",
      "WARNING:tensorflow:Unresolved object in checkpoint: (root).layer_with_weights-0.layer-271.call_and_return_all_conditional_losses\n",
      "WARNING:tensorflow:Unresolved object in checkpoint: (root).layer_with_weights-0.layer-272.__call__\n",
      "WARNING:tensorflow:Unresolved object in checkpoint: (root).layer_with_weights-0.layer-272.call_and_return_all_conditional_losses\n",
      "WARNING:tensorflow:Unresolved object in checkpoint: (root).layer_with_weights-0.layer-273.__call__\n",
      "WARNING:tensorflow:Unresolved object in checkpoint: (root).layer_with_weights-0.layer-273.call_and_return_all_conditional_losses\n",
      "WARNING:tensorflow:Unresolved object in checkpoint: (root).layer_with_weights-0.layer_with_weights-169.__call__\n",
      "WARNING:tensorflow:Unresolved object in checkpoint: (root).layer_with_weights-0.layer_with_weights-169.call_and_return_all_conditional_losses\n",
      "WARNING:tensorflow:Unresolved object in checkpoint: (root).layer_with_weights-0.layer-275.__call__\n",
      "WARNING:tensorflow:Unresolved object in checkpoint: (root).layer_with_weights-0.layer-275.call_and_return_all_conditional_losses\n",
      "WARNING:tensorflow:Unresolved object in checkpoint: (root).layer_with_weights-0.layer-276.__call__\n",
      "WARNING:tensorflow:Unresolved object in checkpoint: (root).layer_with_weights-0.layer-276.call_and_return_all_conditional_losses\n",
      "WARNING:tensorflow:Unresolved object in checkpoint: (root).layer_with_weights-0.layer-277.__call__\n",
      "WARNING:tensorflow:Unresolved object in checkpoint: (root).layer_with_weights-0.layer-277.call_and_return_all_conditional_losses\n",
      "WARNING:tensorflow:Unresolved object in checkpoint: (root).layer_with_weights-0.layer-278.__call__\n",
      "WARNING:tensorflow:Unresolved object in checkpoint: (root).layer_with_weights-0.layer-278.call_and_return_all_conditional_losses\n",
      "WARNING:tensorflow:Unresolved object in checkpoint: (root).layer_with_weights-0.layer-279.__call__\n",
      "WARNING:tensorflow:Unresolved object in checkpoint: (root).layer_with_weights-0.layer-279.call_and_return_all_conditional_losses\n",
      "WARNING:tensorflow:Unresolved object in checkpoint: (root).layer_with_weights-0.layer_with_weights-170.__call__\n",
      "WARNING:tensorflow:Unresolved object in checkpoint: (root).layer_with_weights-0.layer_with_weights-170.call_and_return_all_conditional_losses\n",
      "WARNING:tensorflow:Unresolved object in checkpoint: (root).layer_with_weights-0.layer_with_weights-171.__call__\n",
      "WARNING:tensorflow:Unresolved object in checkpoint: (root).layer_with_weights-0.layer_with_weights-171.call_and_return_all_conditional_losses\n",
      "WARNING:tensorflow:Unresolved object in checkpoint: (root).layer_with_weights-0.layer-282.__call__\n",
      "WARNING:tensorflow:Unresolved object in checkpoint: (root).layer_with_weights-0.layer-282.call_and_return_all_conditional_losses\n",
      "WARNING:tensorflow:Unresolved object in checkpoint: (root).layer_with_weights-0.layer_with_weights-172.__call__\n",
      "WARNING:tensorflow:Unresolved object in checkpoint: (root).layer_with_weights-0.layer_with_weights-172.call_and_return_all_conditional_losses\n",
      "WARNING:tensorflow:Unresolved object in checkpoint: (root).layer_with_weights-0.layer_with_weights-173.__call__\n",
      "WARNING:tensorflow:Unresolved object in checkpoint: (root).layer_with_weights-0.layer_with_weights-173.call_and_return_all_conditional_losses\n",
      "WARNING:tensorflow:Unresolved object in checkpoint: (root).layer_with_weights-0.layer_with_weights-174.__call__\n",
      "WARNING:tensorflow:Unresolved object in checkpoint: (root).layer_with_weights-0.layer_with_weights-174.call_and_return_all_conditional_losses\n",
      "WARNING:tensorflow:Unresolved object in checkpoint: (root).layer_with_weights-0.layer_with_weights-175.__call__\n",
      "WARNING:tensorflow:Unresolved object in checkpoint: (root).layer_with_weights-0.layer_with_weights-175.call_and_return_all_conditional_losses\n",
      "WARNING:tensorflow:Unresolved object in checkpoint: (root).layer_with_weights-0.layer-287.__call__\n",
      "WARNING:tensorflow:Unresolved object in checkpoint: (root).layer_with_weights-0.layer-287.call_and_return_all_conditional_losses\n",
      "WARNING:tensorflow:Unresolved object in checkpoint: (root).layer_with_weights-0.layer-288.__call__\n",
      "WARNING:tensorflow:Unresolved object in checkpoint: (root).layer_with_weights-0.layer-288.call_and_return_all_conditional_losses\n",
      "WARNING:tensorflow:Unresolved object in checkpoint: (root).layer_with_weights-0.layer_with_weights-176.__call__\n",
      "WARNING:tensorflow:Unresolved object in checkpoint: (root).layer_with_weights-0.layer_with_weights-176.call_and_return_all_conditional_losses\n",
      "WARNING:tensorflow:Unresolved object in checkpoint: (root).layer_with_weights-0.layer_with_weights-177.__call__\n",
      "WARNING:tensorflow:Unresolved object in checkpoint: (root).layer_with_weights-0.layer_with_weights-177.call_and_return_all_conditional_losses\n",
      "WARNING:tensorflow:Unresolved object in checkpoint: (root).layer_with_weights-0.layer_with_weights-178.__call__\n",
      "WARNING:tensorflow:Unresolved object in checkpoint: (root).layer_with_weights-0.layer_with_weights-178.call_and_return_all_conditional_losses\n",
      "WARNING:tensorflow:Unresolved object in checkpoint: (root).layer_with_weights-0.layer_with_weights-179.__call__\n",
      "WARNING:tensorflow:Unresolved object in checkpoint: (root).layer_with_weights-0.layer_with_weights-179.call_and_return_all_conditional_losses\n",
      "WARNING:tensorflow:Unresolved object in checkpoint: (root).layer_with_weights-0.layer-293.__call__\n",
      "WARNING:tensorflow:Unresolved object in checkpoint: (root).layer_with_weights-0.layer-293.call_and_return_all_conditional_losses\n",
      "WARNING:tensorflow:Unresolved object in checkpoint: (root).layer_with_weights-0.layer_with_weights-180.__call__\n",
      "WARNING:tensorflow:Unresolved object in checkpoint: (root).layer_with_weights-0.layer_with_weights-180.call_and_return_all_conditional_losses\n",
      "WARNING:tensorflow:Unresolved object in checkpoint: (root).layer_with_weights-0.layer_with_weights-181.__call__\n",
      "WARNING:tensorflow:Unresolved object in checkpoint: (root).layer_with_weights-0.layer_with_weights-181.call_and_return_all_conditional_losses\n",
      "WARNING:tensorflow:Unresolved object in checkpoint: (root).layer_with_weights-0.layer_with_weights-182.__call__\n",
      "WARNING:tensorflow:Unresolved object in checkpoint: (root).layer_with_weights-0.layer_with_weights-182.call_and_return_all_conditional_losses\n",
      "WARNING:tensorflow:Unresolved object in checkpoint: (root).layer_with_weights-0.layer_with_weights-183.__call__\n",
      "WARNING:tensorflow:Unresolved object in checkpoint: (root).layer_with_weights-0.layer_with_weights-183.call_and_return_all_conditional_losses\n",
      "WARNING:tensorflow:Unresolved object in checkpoint: (root).layer_with_weights-0.layer_with_weights-184.__call__\n",
      "WARNING:tensorflow:Unresolved object in checkpoint: (root).layer_with_weights-0.layer_with_weights-184.call_and_return_all_conditional_losses\n",
      "WARNING:tensorflow:Unresolved object in checkpoint: (root).layer_with_weights-0.layer_with_weights-185.__call__\n",
      "WARNING:tensorflow:Unresolved object in checkpoint: (root).layer_with_weights-0.layer_with_weights-185.call_and_return_all_conditional_losses\n",
      "WARNING:tensorflow:Unresolved object in checkpoint: (root).layer_with_weights-0.layer_with_weights-186.__call__\n",
      "WARNING:tensorflow:Unresolved object in checkpoint: (root).layer_with_weights-0.layer_with_weights-186.call_and_return_all_conditional_losses\n",
      "WARNING:tensorflow:Unresolved object in checkpoint: (root).layer_with_weights-0.layer-301.__call__\n",
      "WARNING:tensorflow:Unresolved object in checkpoint: (root).layer_with_weights-0.layer-301.call_and_return_all_conditional_losses\n",
      "WARNING:tensorflow:Unresolved object in checkpoint: (root).layer_with_weights-0.layer-302.__call__\n",
      "WARNING:tensorflow:Unresolved object in checkpoint: (root).layer_with_weights-0.layer-302.call_and_return_all_conditional_losses\n",
      "WARNING:tensorflow:Unresolved object in checkpoint: (root).layer_with_weights-0.layer-303.__call__\n",
      "WARNING:tensorflow:Unresolved object in checkpoint: (root).layer_with_weights-0.layer-303.call_and_return_all_conditional_losses\n",
      "WARNING:tensorflow:Unresolved object in checkpoint: (root).layer_with_weights-0.layer-304.__call__\n",
      "WARNING:tensorflow:Unresolved object in checkpoint: (root).layer_with_weights-0.layer-304.call_and_return_all_conditional_losses\n",
      "WARNING:tensorflow:Unresolved object in checkpoint: (root).layer_with_weights-0.layer_with_weights-187.__call__\n",
      "WARNING:tensorflow:Unresolved object in checkpoint: (root).layer_with_weights-0.layer_with_weights-187.call_and_return_all_conditional_losses\n",
      "WARNING:tensorflow:Unresolved object in checkpoint: (root).layer_with_weights-0.layer-306.__call__\n",
      "WARNING:tensorflow:Unresolved object in checkpoint: (root).layer_with_weights-0.layer-306.call_and_return_all_conditional_losses\n",
      "WARNING:tensorflow:Unresolved object in checkpoint: (root).layer_with_weights-0.layer-307.__call__\n",
      "WARNING:tensorflow:Unresolved object in checkpoint: (root).layer_with_weights-0.layer-307.call_and_return_all_conditional_losses\n",
      "WARNING:tensorflow:Unresolved object in checkpoint: (root).layer_with_weights-0.layer-308.__call__\n",
      "WARNING:tensorflow:Unresolved object in checkpoint: (root).layer_with_weights-0.layer-308.call_and_return_all_conditional_losses\n",
      "WARNING:tensorflow:Unresolved object in checkpoint: (root).layer_with_weights-0.layer-309.__call__\n",
      "WARNING:tensorflow:Unresolved object in checkpoint: (root).layer_with_weights-0.layer-309.call_and_return_all_conditional_losses\n",
      "WARNING:tensorflow:Unresolved object in checkpoint: (root).layer_with_weights-0.layer-310.__call__\n",
      "WARNING:tensorflow:Unresolved object in checkpoint: (root).layer_with_weights-0.layer-310.call_and_return_all_conditional_losses\n",
      "WARNING:tensorflow:A checkpoint was restored (e.g. tf.train.Checkpoint.restore or tf.keras.Model.load_weights) but not all checkpointed values were used. See above for specific issues. Use expect_partial() on the load status object, e.g. tf.train.Checkpoint.restore(...).expect_partial(), to silence these warnings, or use assert_consumed() to make the check explicit. See https://www.tensorflow.org/guide/checkpoint#loading_mechanics for details.\n"
     ]
    }
   ],
   "source": [
    "#model_2 = load_model('./model_data_2')"
   ]
  },
  {
   "cell_type": "code",
   "execution_count": 69,
   "id": "1de1881b-3280-4fa7-ae05-bd04b93a9010",
   "metadata": {},
   "outputs": [],
   "source": [
    "preds_2 = model_2.predict(test_generator)"
   ]
  },
  {
   "cell_type": "code",
   "execution_count": 334,
   "id": "e79906a8-6f7b-4069-8971-3e5594291c17",
   "metadata": {},
   "outputs": [
    {
     "data": {
      "text/plain": [
       "array([3.3986568e-04, 1.6006827e-04, 6.0280370e-05, 1.1988282e-03,\n",
       "       2.4849533e-05, 3.7597576e-05, 3.0726194e-04, 8.0754253e-05,\n",
       "       2.3773313e-04, 3.2940507e-04, 8.4830615e-05, 4.3936448e-05,\n",
       "       2.4540197e-05, 4.6412424e-05, 7.0904527e-05, 1.5139580e-04,\n",
       "       3.2006785e-05, 1.1192752e-04, 3.1882524e-04, 3.7323673e-05,\n",
       "       3.1498075e-04, 1.6632676e-04, 1.1498617e-04, 1.9833446e-04,\n",
       "       1.7348317e-05, 4.4947863e-04, 1.8702252e-05, 4.2396965e-05,\n",
       "       8.1256861e-05, 1.4123321e-04, 1.1603903e-05, 6.9513048e-06,\n",
       "       8.0176884e-05, 6.0826431e-05, 1.0951416e-05, 4.2911295e-05,\n",
       "       2.4101100e-05, 1.1159998e-04, 1.5822053e-04, 1.3894558e-05,\n",
       "       6.7568137e-05, 1.3814633e-05, 2.4125660e-05, 9.7612292e-06,\n",
       "       6.4284985e-05, 1.9494895e-05, 6.8881025e-05, 1.4375609e-05,\n",
       "       6.8619811e-05, 2.0247006e-05, 7.1917907e-06, 6.5665954e-05,\n",
       "       4.2967436e-05, 3.2160722e-05, 3.0750036e-04, 1.0877456e-04,\n",
       "       2.6685625e-02, 7.9809935e-05, 9.0331436e-05, 3.3586261e-05,\n",
       "       2.2155046e-04, 1.4513731e-04, 4.1452050e-04, 1.7653403e-05,\n",
       "       6.0366776e-05, 6.2079387e-05, 3.7841648e-05, 3.2112002e-04,\n",
       "       3.4862757e-04, 1.0350068e-05, 5.1460956e-05, 1.8408895e-04,\n",
       "       4.6882033e-04, 3.1132698e-03, 1.5237927e-04, 5.0130486e-04,\n",
       "       3.5929084e-03, 3.4437144e-05, 1.9115971e-05, 3.4935415e-02,\n",
       "       4.0601999e-02, 3.4959018e-03, 8.3596475e-05, 1.6051823e-05,\n",
       "       4.2986870e-04, 5.3819076e-05, 3.6611822e-05, 3.4985991e-05,\n",
       "       3.7793103e-05, 7.7687575e-05, 2.2822969e-05, 1.6686320e-04,\n",
       "       2.7245283e-04, 1.6393065e-03, 5.9125661e-05, 3.0944331e-05,\n",
       "       6.7304260e-05, 3.4865737e-04, 1.5228987e-04, 1.3276935e-04,\n",
       "       3.3465531e-05, 1.0648966e-03, 1.0265425e-04, 9.0372562e-04,\n",
       "       1.7631948e-03, 2.6151538e-04, 4.6983361e-04, 3.8571894e-02,\n",
       "       7.5514704e-02, 4.3547153e-04, 4.0183004e-05, 6.6491663e-03,\n",
       "       2.5460124e-04, 1.5857816e-04, 2.6011467e-04, 9.1017777e-05,\n",
       "       4.8504819e-05, 3.4338444e-02, 3.0472577e-03, 4.0286045e-06],\n",
       "      dtype=float32)"
      ]
     },
     "execution_count": 334,
     "metadata": {},
     "output_type": "execute_result"
    }
   ],
   "source": [
    "preds_2[0]"
   ]
  },
  {
   "cell_type": "code",
   "execution_count": 357,
   "id": "3062d909-98dc-4b97-b9b7-26de9e9529a0",
   "metadata": {},
   "outputs": [],
   "source": [
    "preds_encoded = np.where(preds_2 >= .05, 1, 0)"
   ]
  },
  {
   "cell_type": "code",
   "execution_count": 358,
   "id": "396dd0ce-be61-45f6-abea-70cfd3d54097",
   "metadata": {},
   "outputs": [
    {
     "data": {
      "text/plain": [
       "array([0, 0, 0, 0, 0, 0, 0, 0, 0, 0, 0, 0, 0, 0, 0, 0, 0, 0, 0, 0, 0, 0,\n",
       "       0, 0, 0, 0, 0, 0, 0, 0, 0, 0, 0, 0, 0, 0, 0, 0, 0, 0, 0, 0, 0, 0,\n",
       "       0, 0, 0, 0, 0, 0, 0, 0, 0, 0, 0, 0, 0, 0, 0, 0, 0, 0, 0, 0, 0, 0,\n",
       "       0, 0, 0, 0, 0, 0, 0, 0, 0, 0, 0, 0, 0, 0, 0, 0, 0, 0, 0, 0, 0, 0,\n",
       "       0, 0, 0, 0, 0, 0, 0, 0, 0, 0, 0, 0, 0, 0, 0, 0, 0, 0, 0, 1, 1, 0,\n",
       "       0, 1, 0, 0, 0, 0, 0, 1, 0, 0])"
      ]
     },
     "execution_count": 358,
     "metadata": {},
     "output_type": "execute_result"
    }
   ],
   "source": [
    "preds_encoded[4]"
   ]
  },
  {
   "cell_type": "markdown",
   "id": "63897986-3f5a-4ee7-9a9a-ec38feb36ebe",
   "metadata": {
    "tags": []
   },
   "source": [
    "### See how it does with only one breed - unseen pics"
   ]
  },
  {
   "cell_type": "code",
   "execution_count": 54,
   "id": "7a9738d1-9f13-460b-a972-344dfb3e301d",
   "metadata": {},
   "outputs": [],
   "source": [
    "non_mixed_path = './Testing_images/'"
   ]
  },
  {
   "cell_type": "code",
   "execution_count": 55,
   "id": "380ddc60-2492-4c0a-98cb-cc548e59de43",
   "metadata": {},
   "outputs": [],
   "source": [
    "non_mixed_test_datagen = ImageDataGenerator(\n",
    "    rescale= 1./255, \n",
    ")"
   ]
  },
  {
   "cell_type": "code",
   "execution_count": 56,
   "id": "4ae064f8-da2f-483b-9c87-2bcadf64c017",
   "metadata": {},
   "outputs": [
    {
     "name": "stdout",
     "output_type": "stream",
     "text": [
      "Found 3633 images belonging to 120 classes.\n"
     ]
    }
   ],
   "source": [
    "non_mixed_test_generator = non_mixed_test_datagen.flow_from_directory(\n",
    "    non_mixed_path,\n",
    "    target_size= (img_width, img_height),\n",
    "    color_mode= 'rgb',\n",
    "    batch_size= batch_size,  \n",
    "    class_mode= 'categorical',\n",
    "    shuffle=False\n",
    ")"
   ]
  },
  {
   "cell_type": "code",
   "execution_count": 57,
   "id": "f8df51b5-0c78-4940-9c7d-93e9e04df6fe",
   "metadata": {},
   "outputs": [],
   "source": [
    "label_names = list(non_mixed_test_generator.class_indices.keys())"
   ]
  },
  {
   "cell_type": "code",
   "execution_count": 66,
   "id": "59ee380d-665e-4863-8586-4cfec009fa03",
   "metadata": {
    "collapsed": true,
    "jupyter": {
     "outputs_hidden": true
    },
    "tags": []
   },
   "outputs": [
    {
     "data": {
      "text/plain": [
       "{'Affenpinscher': 0,\n",
       " 'Afghan': 1,\n",
       " 'African Wild Dog': 2,\n",
       " 'Airedale': 3,\n",
       " 'American Staffordshire Terrier': 4,\n",
       " 'Appenzeller': 5,\n",
       " 'Australian Terrier': 6,\n",
       " 'Basenji': 7,\n",
       " 'Basset': 8,\n",
       " 'Beagle': 9,\n",
       " 'Bedlington Terrier': 10,\n",
       " 'Bernese Mountain Dog': 11,\n",
       " 'Black-and-Tan Coonhound': 12,\n",
       " 'Blenheim Spaniel': 13,\n",
       " 'Bloodhound': 14,\n",
       " 'Bluetick': 15,\n",
       " 'Border Collie': 16,\n",
       " 'Border Terrier': 17,\n",
       " 'Borzoi': 18,\n",
       " 'Boston Bull': 19,\n",
       " 'Bouvier Des Flandres': 20,\n",
       " 'Boxer': 21,\n",
       " 'Brabancon Griffon': 22,\n",
       " 'Briard': 23,\n",
       " 'Brittany Spaniel': 24,\n",
       " 'Bull Mastiff': 25,\n",
       " 'Cairn': 26,\n",
       " 'Cardigan': 27,\n",
       " 'Chesapeake Bay Retriever': 28,\n",
       " 'Chihuahua': 29,\n",
       " 'Chow': 30,\n",
       " 'Clumber': 31,\n",
       " 'Cocker Spaniel': 32,\n",
       " 'Collie': 33,\n",
       " 'Curly Coated Retriever': 34,\n",
       " 'Dandie Dinmont': 35,\n",
       " 'Dhole': 36,\n",
       " 'Dingo': 37,\n",
       " 'Doberman': 38,\n",
       " 'English Foxhound': 39,\n",
       " 'English Setter': 40,\n",
       " 'English Springer': 41,\n",
       " 'Entlebucher': 42,\n",
       " 'Eskimo Dog': 43,\n",
       " 'Flat Coated Retriever': 44,\n",
       " 'French Bulldog': 45,\n",
       " 'German Shepherd': 46,\n",
       " 'German Short Haired Pointer': 47,\n",
       " 'Giant Schnauzer': 48,\n",
       " 'Golden Retriever': 49,\n",
       " 'Gordon Setter': 50,\n",
       " 'Great Dane': 51,\n",
       " 'Great Pyrenees': 52,\n",
       " 'Greater Swiss Mountain Dog': 53,\n",
       " 'Groenendael': 54,\n",
       " 'Ibizan Hound': 55,\n",
       " 'Irish Setter': 56,\n",
       " 'Irish Terrier': 57,\n",
       " 'Irish Water Spaniel': 58,\n",
       " 'Irish Wolfhound': 59,\n",
       " 'Italian Greyhound': 60,\n",
       " 'Japanese Spaniel': 61,\n",
       " 'Keeshond': 62,\n",
       " 'Kelpie': 63,\n",
       " 'Kerry Blue Terrier': 64,\n",
       " 'Komondor': 65,\n",
       " 'Kuvasz': 66,\n",
       " 'Labrador Retriever': 67,\n",
       " 'Lakeland Terrier': 68,\n",
       " 'Leonberg': 69,\n",
       " 'Lhasa': 70,\n",
       " 'Malamute': 71,\n",
       " 'Malinois': 72,\n",
       " 'Maltese': 73,\n",
       " 'Mexican Hairless': 74,\n",
       " 'Miniature Poodle': 75,\n",
       " 'Miniature Schnauzer': 76,\n",
       " 'Newfoundland': 77,\n",
       " 'Norfolk Terrier': 78,\n",
       " 'Norwegian Elkhound': 79,\n",
       " 'Norwich Terrier': 80,\n",
       " 'Old English Sheepdog': 81,\n",
       " 'Otterhound': 82,\n",
       " 'Papillon': 83,\n",
       " 'Pekinese': 84,\n",
       " 'Pembroke Corgi': 85,\n",
       " 'Pinscher': 86,\n",
       " 'Pomeranian': 87,\n",
       " 'Pug': 88,\n",
       " 'Redbone': 89,\n",
       " 'Rhodesian Ridgeback': 90,\n",
       " 'Rottweiler': 91,\n",
       " 'Saint Bernard': 92,\n",
       " 'Saluki': 93,\n",
       " 'Samoyed': 94,\n",
       " 'Schipperke': 95,\n",
       " 'Scotch Terrier': 96,\n",
       " 'Scottish Deerhound': 97,\n",
       " 'Sealyham Terrier': 98,\n",
       " 'Shetland Sheepdog': 99,\n",
       " 'Shih-Tzu': 100,\n",
       " 'Siberian Husky': 101,\n",
       " 'Silky Terrier': 102,\n",
       " 'Soft Coated Wheaten Terrier': 103,\n",
       " 'Staffordshire Bullterrier': 104,\n",
       " 'Standard Poodle': 105,\n",
       " 'Standard Schnauzer': 106,\n",
       " 'Sussex Spaniel': 107,\n",
       " 'Tibetan Mastiff': 108,\n",
       " 'Tibetan Terrier': 109,\n",
       " 'Toy Poodle': 110,\n",
       " 'Toy Terrier': 111,\n",
       " 'Vizsla': 112,\n",
       " 'Walker Hound': 113,\n",
       " 'Weimaraner': 114,\n",
       " 'Welsh Springer Spaniel': 115,\n",
       " 'West Highland White Terrier': 116,\n",
       " 'Whippet': 117,\n",
       " 'Wire Haired Fox Terrier': 118,\n",
       " 'Yorkshire Terrier': 119}"
      ]
     },
     "execution_count": 66,
     "metadata": {},
     "output_type": "execute_result"
    }
   ],
   "source": [
    "train_class_indeces"
   ]
  },
  {
   "cell_type": "code",
   "execution_count": 72,
   "id": "932c70c5-b100-417f-85d7-909da8230578",
   "metadata": {
    "tags": []
   },
   "outputs": [
    {
     "ename": "SyntaxError",
     "evalue": "unexpected EOF while parsing (3582114756.py, line 2)",
     "output_type": "error",
     "traceback": [
      "\u001b[0;36m  Input \u001b[0;32mIn [72]\u001b[0;36m\u001b[0m\n\u001b[0;31m    (len(train_class_indeces)\u001b[0m\n\u001b[0m                             ^\u001b[0m\n\u001b[0;31mSyntaxError\u001b[0m\u001b[0;31m:\u001b[0m unexpected EOF while parsing\n"
     ]
    }
   ],
   "source": [
    "test_class_indeces = non_mixed_test_generator.class_indices\n",
    "(len(train_class_indeces)"
   ]
  },
  {
   "cell_type": "code",
   "execution_count": 83,
   "id": "1cc5e4f0-7d44-41e9-bde5-af53c27d5a85",
   "metadata": {},
   "outputs": [
    {
     "name": "stdout",
     "output_type": "stream",
     "text": [
      "120\n"
     ]
    }
   ],
   "source": [
    "j = 0\n",
    "for i in range(len(train_class_indeces)):\n",
    "    if list(train_class_indeces.keys())[i] == list(test_class_indeces.keys())[i]:\n",
    "        j +=1\n",
    "print(j)"
   ]
  },
  {
   "cell_type": "code",
   "execution_count": 58,
   "id": "affb2604-009c-4d01-8855-e7ceba69ad5a",
   "metadata": {
    "tags": []
   },
   "outputs": [],
   "source": [
    "#non_mixed_test_generator.classes"
   ]
  },
  {
   "cell_type": "code",
   "execution_count": 59,
   "id": "fa9a6168-f6eb-46f8-ba0e-a4a883de7475",
   "metadata": {
    "tags": []
   },
   "outputs": [],
   "source": [
    "#non_mixed_test_generator.filepaths"
   ]
  },
  {
   "cell_type": "code",
   "execution_count": 60,
   "id": "c51dfdef-da66-4eaa-915a-94fa97d4047d",
   "metadata": {},
   "outputs": [],
   "source": [
    "file_paths = non_mixed_test_generator.filenames"
   ]
  },
  {
   "cell_type": "code",
   "execution_count": 61,
   "id": "baa5a7d9-22e5-4878-baa9-738167f66416",
   "metadata": {},
   "outputs": [
    {
     "data": {
      "text/plain": [
       "'Affenpinscher/001.jpg'"
      ]
     },
     "execution_count": 61,
     "metadata": {},
     "output_type": "execute_result"
    }
   ],
   "source": [
    "file_paths[0]"
   ]
  },
  {
   "cell_type": "code",
   "execution_count": 62,
   "id": "772522d8-7a7b-42e2-99e6-3bf941b4e4df",
   "metadata": {
    "tags": []
   },
   "outputs": [
    {
     "name": "stderr",
     "output_type": "stream",
     "text": [
      "\n",
      "KeyboardInterrupt\n",
      "\n"
     ]
    }
   ],
   "source": [
    "non_mixed_preds = model_es.predict(non_mixed_test_generator)"
   ]
  },
  {
   "cell_type": "code",
   "execution_count": 50,
   "id": "3e861664-e24f-4e27-bf11-a39770878432",
   "metadata": {},
   "outputs": [],
   "source": [
    "single_breed_preds = np.argmax(non_mixed_preds, axis=1)"
   ]
  },
  {
   "cell_type": "code",
   "execution_count": 52,
   "id": "f4e27f80-57a9-48ff-b06a-11bbd923883e",
   "metadata": {},
   "outputs": [],
   "source": [
    "from sklearn.metrics import classification_report, multilabel_confusion_matrix"
   ]
  },
  {
   "cell_type": "code",
   "execution_count": 53,
   "id": "d4c768f5-e87e-457b-b673-00f7529998e8",
   "metadata": {
    "tags": []
   },
   "outputs": [
    {
     "name": "stdout",
     "output_type": "stream",
     "text": [
      "                                precision    recall  f1-score   support\n",
      "\n",
      "                 Affenpinscher       0.76      1.00      0.87        13\n",
      "                        Afghan       0.98      0.98      0.98        50\n",
      "              African Wild Dog       1.00      0.98      0.99        50\n",
      "                      Airedale       0.92      0.90      0.91        50\n",
      "American Staffordshire Terrier       0.77      0.88      0.82        50\n",
      "                   Appenzeller       1.00      0.25      0.40        12\n",
      "            Australian Terrier       0.50      0.92      0.65        12\n",
      "                       Basenji       1.00      1.00      1.00        50\n",
      "                        Basset       1.00      0.94      0.97        50\n",
      "                        Beagle       0.92      0.96      0.94        50\n",
      "            Bedlington Terrier       1.00      1.00      1.00        13\n",
      "          Bernese Mountain Dog       1.00      0.96      0.98        50\n",
      "       Black-and-Tan Coonhound       0.67      0.91      0.77        11\n",
      "              Blenheim Spaniel       0.93      1.00      0.96        50\n",
      "                    Bloodhound       0.98      0.92      0.95        50\n",
      "                      Bluetick       0.96      0.88      0.92        50\n",
      "                 Border Collie       0.90      0.88      0.89        50\n",
      "                Border Terrier       0.91      0.91      0.91        11\n",
      "                        Borzoi       0.98      0.90      0.94        50\n",
      "                   Boston Bull       0.96      0.92      0.94        50\n",
      "          Bouvier Des Flandres       0.90      0.69      0.78        13\n",
      "                         Boxer       0.88      0.90      0.89        50\n",
      "             Brabancon Griffon       0.83      0.83      0.83        12\n",
      "                        Briard       0.85      0.92      0.88        12\n",
      "              Brittany Spaniel       0.56      0.45      0.50        11\n",
      "                  Bull Mastiff       0.84      0.92      0.88        50\n",
      "                         Cairn       0.91      0.98      0.94        50\n",
      "                      Cardigan       0.67      1.00      0.80        10\n",
      "      Chesapeake Bay Retriever       1.00      0.90      0.95        10\n",
      "                     Chihuahua       0.98      0.86      0.91        50\n",
      "                          Chow       0.98      0.98      0.98        50\n",
      "                       Clumber       0.96      0.98      0.97        50\n",
      "                Cocker Spaniel       0.98      0.39      0.56       102\n",
      "                        Collie       0.76      0.82      0.79        50\n",
      "        Curly Coated Retriever       0.52      1.00      0.68        13\n",
      "                Dandie Dinmont       0.79      1.00      0.88        11\n",
      "                         Dhole       0.98      0.98      0.98        50\n",
      "                         Dingo       1.00      0.92      0.96        50\n",
      "                      Doberman       0.82      0.92      0.87        50\n",
      "              English Foxhound       0.60      0.67      0.63         9\n",
      "                English Setter       0.71      0.91      0.80        11\n",
      "              English Springer       0.67      1.00      0.80         8\n",
      "                   Entlebucher       0.45      0.91      0.61        11\n",
      "                    Eskimo Dog       0.00      0.00      0.00        11\n",
      "         Flat Coated Retriever       0.59      0.91      0.71        11\n",
      "                French Bulldog       0.80      0.90      0.85        50\n",
      "               German Shepherd       0.84      0.94      0.89        50\n",
      "   German Short Haired Pointer       0.92      0.92      0.92        12\n",
      "               Giant Schnauzer       0.50      0.80      0.62        10\n",
      "              Golden Retriever       0.91      0.98      0.94        50\n",
      "                 Gordon Setter       0.92      1.00      0.96        11\n",
      "                    Great Dane       0.95      0.82      0.88        50\n",
      "                Great Pyrenees       0.97      0.72      0.83        50\n",
      "    Greater Swiss Mountain Dog       0.75      0.55      0.63        11\n",
      "                   Groenendael       0.98      0.96      0.97        50\n",
      "                  Ibizan Hound       0.79      1.00      0.88        11\n",
      "                  Irish Setter       0.80      1.00      0.89        12\n",
      "                 Irish Terrier       0.65      1.00      0.79        11\n",
      "           Irish Water Spaniel       0.70      1.00      0.83        50\n",
      "               Irish Wolfhound       0.93      0.50      0.65        50\n",
      "             Italian Greyhound       0.83      0.91      0.87        11\n",
      "              Japanese Spaniel       0.96      0.88      0.92        50\n",
      "                      Keeshond       0.92      1.00      0.96        11\n",
      "                        Kelpie       0.47      0.70      0.56        10\n",
      "            Kerry Blue Terrier       0.82      0.90      0.86        10\n",
      "                      Komondor       1.00      0.98      0.99        50\n",
      "                        Kuvasz       0.44      1.00      0.61        11\n",
      "            Labrador Retriever       0.98      0.92      0.95        50\n",
      "              Lakeland Terrier       0.62      0.50      0.56        10\n",
      "                      Leonberg       0.73      1.00      0.85        11\n",
      "                         Lhasa       0.63      0.44      0.52        50\n",
      "                      Malamute       0.80      0.73      0.76        11\n",
      "                      Malinois       0.98      0.82      0.89        50\n",
      "                       Maltese       0.94      0.92      0.93        50\n",
      "              Mexican Hairless       0.94      1.00      0.97        50\n",
      "              Miniature Poodle       0.34      0.85      0.49        13\n",
      "           Miniature Schnauzer       0.58      0.64      0.61        11\n",
      "                  Newfoundland       0.97      0.78      0.87        50\n",
      "               Norfolk Terrier       0.89      0.80      0.84        10\n",
      "            Norwegian Elkhound       1.00      0.94      0.97        50\n",
      "               Norwich Terrier       1.00      0.92      0.96        12\n",
      "          Old English Sheepdog       0.86      0.92      0.89        13\n",
      "                    Otterhound       0.69      1.00      0.81        11\n",
      "                      Papillon       0.92      1.00      0.96        12\n",
      "                      Pekinese       0.90      0.92      0.91        50\n",
      "                Pembroke Corgi       0.92      0.82      0.87        28\n",
      "                      Pinscher       0.33      0.10      0.15        10\n",
      "                    Pomeranian       1.00      1.00      1.00        50\n",
      "                           Pug       1.00      0.78      0.88        50\n",
      "                       Redbone       0.67      0.91      0.77        11\n",
      "           Rhodesian Ridgeback       0.85      0.78      0.81        50\n",
      "                    Rottweiler       0.96      0.96      0.96        50\n",
      "                 Saint Bernard       0.96      0.98      0.97        50\n",
      "                        Saluki       0.80      1.00      0.89        12\n",
      "                       Samoyed       0.54      0.93      0.68        14\n",
      "                    Schipperke       0.79      0.92      0.85        12\n",
      "                Scotch Terrier       1.00      0.87      0.93       150\n",
      "            Scottish Deerhound       0.38      0.93      0.54        14\n",
      "              Sealyham Terrier       0.91      0.83      0.87        12\n",
      "             Shetland Sheepdog       0.69      0.64      0.67        14\n",
      "                      Shih-Tzu       0.67      0.66      0.67        50\n",
      "                Siberian Husky       0.93      0.80      0.86        50\n",
      "                 Silky Terrier       0.20      0.08      0.12        12\n",
      "   Soft Coated Wheaten Terrier       0.64      0.58      0.61        12\n",
      "     Staffordshire Bullterrier       0.71      0.77      0.74        13\n",
      "               Standard Poodle       0.93      0.52      0.67        25\n",
      "            Standard Schnauzer       0.69      0.79      0.73        14\n",
      "                Sussex Spaniel       0.62      1.00      0.76        13\n",
      "               Tibetan Mastiff       0.73      0.92      0.81        12\n",
      "               Tibetan Terrier       0.41      0.79      0.54        14\n",
      "                    Toy Poodle       0.50      0.08      0.14        12\n",
      "                   Toy Terrier       0.58      0.79      0.67        14\n",
      "                        Vizsla       0.88      0.92      0.90        50\n",
      "                  Walker Hound       0.73      0.73      0.73        15\n",
      "                    Weimaraner       0.82      1.00      0.90        14\n",
      "        Welsh Springer Spaniel       0.74      0.93      0.82        15\n",
      "   West Highland White Terrier       0.84      0.94      0.89        17\n",
      "                       Whippet       0.92      0.69      0.79        16\n",
      "       Wire Haired Fox Terrier       0.88      0.94      0.91        16\n",
      "             Yorkshire Terrier       0.92      0.90      0.91        50\n",
      "\n",
      "                      accuracy                           0.86      3633\n",
      "                     macro avg       0.80      0.84      0.80      3633\n",
      "                  weighted avg       0.88      0.86      0.86      3633\n",
      "\n"
     ]
    }
   ],
   "source": [
    "print(classification_report(non_mixed_test_generator.classes, single_breed_preds, target_names=label_names))"
   ]
  },
  {
   "cell_type": "markdown",
   "id": "461260e0-d582-4224-87f6-c21392265fa5",
   "metadata": {},
   "source": [
    "#### Try the newest model"
   ]
  },
  {
   "cell_type": "code",
   "execution_count": null,
   "id": "6415977d-a8b3-4cce-a950-39909ff783f0",
   "metadata": {},
   "outputs": [],
   "source": []
  },
  {
   "cell_type": "code",
   "execution_count": null,
   "id": "111efb3c-2717-49e9-a019-da61b77cfe66",
   "metadata": {},
   "outputs": [],
   "source": []
  },
  {
   "cell_type": "code",
   "execution_count": null,
   "id": "cbecbf52-0fef-4c16-aa99-a0f35ca90d32",
   "metadata": {},
   "outputs": [],
   "source": []
  },
  {
   "cell_type": "code",
   "execution_count": null,
   "id": "b2fa926d-a9ef-4152-88d3-7961b9d942c1",
   "metadata": {},
   "outputs": [],
   "source": [
    "def unpack_predicts(preds, file_path):\n",
    "    preds_sort = np.argsort(preds, axis=1)\n",
    "    predicted_breeds = {}\n",
    "    i = 0\n",
    "    for arr in preds_sort:\n",
    "        temp_list = [train_class_ind[index] for index in arr[-10:]]\n",
    "        predicted_breeds[file_path[i]] = temp_list\n",
    "        i +=1\n",
    "    pred_breeds = pd.DataFrame(data=predicted_breeds.items(), columns=['filepath', 'predicted_breeds'])\n",
    "    \n",
    "    return pred_breeds"
   ]
  },
  {
   "cell_type": "code",
   "execution_count": null,
   "id": "dbd84a69-8831-4237-b8ba-8e36a9ec5bf1",
   "metadata": {
    "tags": []
   },
   "outputs": [],
   "source": [
    "non_mixed_predictions = unpack_predicts(non_mixed_preds, non_mixed_test_generator.filepaths)"
   ]
  },
  {
   "cell_type": "code",
   "execution_count": null,
   "id": "4946a203-7367-459b-b01a-7185d919e569",
   "metadata": {},
   "outputs": [
    {
     "data": {
      "text/html": [
       "<div>\n",
       "<style scoped>\n",
       "    .dataframe tbody tr th:only-of-type {\n",
       "        vertical-align: middle;\n",
       "    }\n",
       "\n",
       "    .dataframe tbody tr th {\n",
       "        vertical-align: top;\n",
       "    }\n",
       "\n",
       "    .dataframe thead th {\n",
       "        text-align: right;\n",
       "    }\n",
       "</style>\n",
       "<table border=\"1\" class=\"dataframe\">\n",
       "  <thead>\n",
       "    <tr style=\"text-align: right;\">\n",
       "      <th></th>\n",
       "      <th>filepath</th>\n",
       "      <th>predicted_breeds</th>\n",
       "    </tr>\n",
       "  </thead>\n",
       "  <tbody>\n",
       "    <tr>\n",
       "      <th>0</th>\n",
       "      <td>./non_mixed_data/Affenpinscher/001.jpg</td>\n",
       "      <td>[German Shepherd, Schipperke, Groenendael, American Staffordshire Terrier, Malinois, Silky Terrier, Staffordshire Bullterrier, Airedale, Toy Poodle, Shih-Tzu]</td>\n",
       "    </tr>\n",
       "    <tr>\n",
       "      <th>1</th>\n",
       "      <td>./non_mixed_data/Affenpinscher/002.jpg</td>\n",
       "      <td>[Miniature Poodle, Otterhound, German Shepherd, Airedale, Eskimo Dog, Golden Retriever, Greater Swiss Mountain Dog, American Staffordshire Terrier, Toy Poodle, Shih-Tzu]</td>\n",
       "    </tr>\n",
       "    <tr>\n",
       "      <th>2</th>\n",
       "      <td>./non_mixed_data/Affenpinscher/003.jpg</td>\n",
       "      <td>[Curly Coated Retriever, Silky Terrier, Samoyed, Otterhound, French Bulldog, German Short Haired Pointer, Airedale, American Staffordshire Terrier, Toy Poodle, Shih-Tzu]</td>\n",
       "    </tr>\n",
       "    <tr>\n",
       "      <th>3</th>\n",
       "      <td>./non_mixed_data/Affenpinscher/004.jpg</td>\n",
       "      <td>[Rottweiler, Groenendael, Miniature Poodle, Greater Swiss Mountain Dog, Dhole, American Staffordshire Terrier, German Short Haired Pointer, French Bulldog, Toy Poodle, Shih-Tzu]</td>\n",
       "    </tr>\n",
       "    <tr>\n",
       "      <th>4</th>\n",
       "      <td>./non_mixed_data/Affenpinscher/005.jpg</td>\n",
       "      <td>[Samoyed, Malinois, Silky Terrier, Chesapeake Bay Retriever, German Shepherd, American Staffordshire Terrier, Toy Poodle, German Short Haired Pointer, French Bulldog, Shih-Tzu]</td>\n",
       "    </tr>\n",
       "    <tr>\n",
       "      <th>...</th>\n",
       "      <td>...</td>\n",
       "      <td>...</td>\n",
       "    </tr>\n",
       "    <tr>\n",
       "      <th>3628</th>\n",
       "      <td>./non_mixed_data/Yorkshire Terrier/46.jpg</td>\n",
       "      <td>[English Springer, Shih-Tzu, Brittany Spaniel, Golden Retriever, Curly Coated Retriever, Dandie Dinmont, Miniature Poodle, Gordon Setter, Dhole, Entlebucher]</td>\n",
       "    </tr>\n",
       "    <tr>\n",
       "      <th>3629</th>\n",
       "      <td>./non_mixed_data/Yorkshire Terrier/47.jpg</td>\n",
       "      <td>[American Staffordshire Terrier, Shih-Tzu, Toy Poodle, English Springer, Dandie Dinmont, Curly Coated Retriever, Basenji, Gordon Setter, Entlebucher, Dhole]</td>\n",
       "    </tr>\n",
       "    <tr>\n",
       "      <th>3630</th>\n",
       "      <td>./non_mixed_data/Yorkshire Terrier/48.jpg</td>\n",
       "      <td>[Miniature Poodle, Eskimo Dog, Curly Coated Retriever, Basenji, American Staffordshire Terrier, Golden Retriever, French Bulldog, Entlebucher, Gordon Setter, Dhole]</td>\n",
       "    </tr>\n",
       "    <tr>\n",
       "      <th>3631</th>\n",
       "      <td>./non_mixed_data/Yorkshire Terrier/49.jpg</td>\n",
       "      <td>[Eskimo Dog, Basenji, Doberman, Shih-Tzu, Curly Coated Retriever, Dandie Dinmont, Gordon Setter, Dhole, Entlebucher, English Springer]</td>\n",
       "    </tr>\n",
       "    <tr>\n",
       "      <th>3632</th>\n",
       "      <td>./non_mixed_data/Yorkshire Terrier/50.jpg</td>\n",
       "      <td>[Dandie Dinmont, Great Pyrenees, American Staffordshire Terrier, Curly Coated Retriever, Shih-Tzu, Basenji, English Springer, Gordon Setter, Entlebucher, Dhole]</td>\n",
       "    </tr>\n",
       "  </tbody>\n",
       "</table>\n",
       "<p>3633 rows × 2 columns</p>\n",
       "</div>"
      ],
      "text/plain": [
       "                                       filepath  \\\n",
       "0        ./non_mixed_data/Affenpinscher/001.jpg   \n",
       "1        ./non_mixed_data/Affenpinscher/002.jpg   \n",
       "2        ./non_mixed_data/Affenpinscher/003.jpg   \n",
       "3        ./non_mixed_data/Affenpinscher/004.jpg   \n",
       "4        ./non_mixed_data/Affenpinscher/005.jpg   \n",
       "...                                         ...   \n",
       "3628  ./non_mixed_data/Yorkshire Terrier/46.jpg   \n",
       "3629  ./non_mixed_data/Yorkshire Terrier/47.jpg   \n",
       "3630  ./non_mixed_data/Yorkshire Terrier/48.jpg   \n",
       "3631  ./non_mixed_data/Yorkshire Terrier/49.jpg   \n",
       "3632  ./non_mixed_data/Yorkshire Terrier/50.jpg   \n",
       "\n",
       "                                                                                                                                                                       predicted_breeds  \n",
       "0                        [German Shepherd, Schipperke, Groenendael, American Staffordshire Terrier, Malinois, Silky Terrier, Staffordshire Bullterrier, Airedale, Toy Poodle, Shih-Tzu]  \n",
       "1             [Miniature Poodle, Otterhound, German Shepherd, Airedale, Eskimo Dog, Golden Retriever, Greater Swiss Mountain Dog, American Staffordshire Terrier, Toy Poodle, Shih-Tzu]  \n",
       "2             [Curly Coated Retriever, Silky Terrier, Samoyed, Otterhound, French Bulldog, German Short Haired Pointer, Airedale, American Staffordshire Terrier, Toy Poodle, Shih-Tzu]  \n",
       "3     [Rottweiler, Groenendael, Miniature Poodle, Greater Swiss Mountain Dog, Dhole, American Staffordshire Terrier, German Short Haired Pointer, French Bulldog, Toy Poodle, Shih-Tzu]  \n",
       "4      [Samoyed, Malinois, Silky Terrier, Chesapeake Bay Retriever, German Shepherd, American Staffordshire Terrier, Toy Poodle, German Short Haired Pointer, French Bulldog, Shih-Tzu]  \n",
       "...                                                                                                                                                                                 ...  \n",
       "3628                      [English Springer, Shih-Tzu, Brittany Spaniel, Golden Retriever, Curly Coated Retriever, Dandie Dinmont, Miniature Poodle, Gordon Setter, Dhole, Entlebucher]  \n",
       "3629                       [American Staffordshire Terrier, Shih-Tzu, Toy Poodle, English Springer, Dandie Dinmont, Curly Coated Retriever, Basenji, Gordon Setter, Entlebucher, Dhole]  \n",
       "3630               [Miniature Poodle, Eskimo Dog, Curly Coated Retriever, Basenji, American Staffordshire Terrier, Golden Retriever, French Bulldog, Entlebucher, Gordon Setter, Dhole]  \n",
       "3631                                             [Eskimo Dog, Basenji, Doberman, Shih-Tzu, Curly Coated Retriever, Dandie Dinmont, Gordon Setter, Dhole, Entlebucher, English Springer]  \n",
       "3632                   [Dandie Dinmont, Great Pyrenees, American Staffordshire Terrier, Curly Coated Retriever, Shih-Tzu, Basenji, English Springer, Gordon Setter, Entlebucher, Dhole]  \n",
       "\n",
       "[3633 rows x 2 columns]"
      ]
     },
     "execution_count": 473,
     "metadata": {},
     "output_type": "execute_result"
    }
   ],
   "source": [
    "non_mixed_predictions "
   ]
  },
  {
   "cell_type": "code",
   "execution_count": null,
   "id": "db2cd973-b475-4881-a38b-59889f60beea",
   "metadata": {},
   "outputs": [],
   "source": [
    "#pd.set_option('display.max_colwidth', None)"
   ]
  },
  {
   "cell_type": "code",
   "execution_count": null,
   "id": "9394fcf7-5785-4f3c-9ab8-c2d250daf551",
   "metadata": {},
   "outputs": [
    {
     "data": {
      "text/plain": [
       "'Airedale'"
      ]
     },
     "execution_count": 257,
     "metadata": {},
     "output_type": "execute_result"
    }
   ],
   "source": [
    "non_mixed_predictions['predicted_breeds'][0][-1]"
   ]
  },
  {
   "cell_type": "code",
   "execution_count": null,
   "id": "3cf0d884-6cc3-4a74-a84e-f53666740f9d",
   "metadata": {},
   "outputs": [],
   "source": [
    "def get_dominant_pred(row):\n",
    "    dom_pred = row['predicted_breeds'][-1]\n",
    "    \n",
    "    return dom_pred"
   ]
  },
  {
   "cell_type": "code",
   "execution_count": null,
   "id": "73fe5b06-db56-49a2-9a8b-9cc718d7aae0",
   "metadata": {},
   "outputs": [],
   "source": [
    "non_mixed_predictions['pred_1'] = non_mixed_predictions.apply(get_dominant_pred, axis=1)"
   ]
  },
  {
   "cell_type": "code",
   "execution_count": null,
   "id": "c257b75e-07c0-413c-8958-9ec6b6308d1d",
   "metadata": {},
   "outputs": [
    {
     "data": {
      "text/html": [
       "<div>\n",
       "<style scoped>\n",
       "    .dataframe tbody tr th:only-of-type {\n",
       "        vertical-align: middle;\n",
       "    }\n",
       "\n",
       "    .dataframe tbody tr th {\n",
       "        vertical-align: top;\n",
       "    }\n",
       "\n",
       "    .dataframe thead th {\n",
       "        text-align: right;\n",
       "    }\n",
       "</style>\n",
       "<table border=\"1\" class=\"dataframe\">\n",
       "  <thead>\n",
       "    <tr style=\"text-align: right;\">\n",
       "      <th></th>\n",
       "      <th>filepath</th>\n",
       "      <th>predicted_breeds</th>\n",
       "      <th>pred_1</th>\n",
       "    </tr>\n",
       "  </thead>\n",
       "  <tbody>\n",
       "    <tr>\n",
       "      <th>0</th>\n",
       "      <td>Airedale/001.jpeg</td>\n",
       "      <td>[Australian Terrier, German Shepherd, Border Terrier, Standard Poodle, Irish Terrier, Lakeland Terrier, Giant Schnauzer, Otterhound, Wire-Haired Fox Terrier, Airedale]</td>\n",
       "      <td>Airedale</td>\n",
       "    </tr>\n",
       "    <tr>\n",
       "      <th>1</th>\n",
       "      <td>Chesapeake Bay Retriever/001.jpeg</td>\n",
       "      <td>[American Staffordshire Terrier, Golden Retriever, Irish Wolfhound, Irish Setter, German Short-Haired Pointer, Flat-Coated Retriever, Labrador Retriever, Standard Poodle, Curly-Coated Retriever, Chesapeake Bay Retriever]</td>\n",
       "      <td>Chesapeake Bay Retriever</td>\n",
       "    </tr>\n",
       "    <tr>\n",
       "      <th>2</th>\n",
       "      <td>Chihuahua/001.jpg</td>\n",
       "      <td>[Appenzeller, Saluki, Ibizan Hound, Brabancon Griffon, Dingo, Basenji, Kelpie, Miniature Pinscher, Chihuahua, Toy Terrier]</td>\n",
       "      <td>Toy Terrier</td>\n",
       "    </tr>\n",
       "    <tr>\n",
       "      <th>3</th>\n",
       "      <td>Golden Retriever/001.jpeg</td>\n",
       "      <td>[Saluki, Clumber, Flat-Coated Retriever, Tibetan Mastiff, Kuvasz, Irish Setter, English Setter, Labrador Retriever, Cocker Spaniel, Golden Retriever]</td>\n",
       "      <td>Golden Retriever</td>\n",
       "    </tr>\n",
       "    <tr>\n",
       "      <th>4</th>\n",
       "      <td>Maltese/001.jpeg</td>\n",
       "      <td>[Sealyham Terrier, Great Pyrenees, Silky Terrier, West Highland White Terrier, Dandie Dinmont, Tibetan Mastiff, Shih-Tzu, Lhasa, Tibetan Terrier, Maltese Dog]</td>\n",
       "      <td>Maltese Dog</td>\n",
       "    </tr>\n",
       "    <tr>\n",
       "      <th>5</th>\n",
       "      <td>Siberian Husky/001.jpeg</td>\n",
       "      <td>[American Staffordshire Terrier, Dhole, Cardigan, Dingo, Borzoi, Saluki, Norwegian Elkhound, Eskimo Dog, Malamute, Siberian Husky]</td>\n",
       "      <td>Siberian Husky</td>\n",
       "    </tr>\n",
       "  </tbody>\n",
       "</table>\n",
       "</div>"
      ],
      "text/plain": [
       "                            filepath  \\\n",
       "0                  Airedale/001.jpeg   \n",
       "1  Chesapeake Bay Retriever/001.jpeg   \n",
       "2                  Chihuahua/001.jpg   \n",
       "3          Golden Retriever/001.jpeg   \n",
       "4                   Maltese/001.jpeg   \n",
       "5            Siberian Husky/001.jpeg   \n",
       "\n",
       "                                                                                                                                                                                                               predicted_breeds  \\\n",
       "0                                                       [Australian Terrier, German Shepherd, Border Terrier, Standard Poodle, Irish Terrier, Lakeland Terrier, Giant Schnauzer, Otterhound, Wire-Haired Fox Terrier, Airedale]   \n",
       "1  [American Staffordshire Terrier, Golden Retriever, Irish Wolfhound, Irish Setter, German Short-Haired Pointer, Flat-Coated Retriever, Labrador Retriever, Standard Poodle, Curly-Coated Retriever, Chesapeake Bay Retriever]   \n",
       "2                                                                                                    [Appenzeller, Saluki, Ibizan Hound, Brabancon Griffon, Dingo, Basenji, Kelpie, Miniature Pinscher, Chihuahua, Toy Terrier]   \n",
       "3                                                                         [Saluki, Clumber, Flat-Coated Retriever, Tibetan Mastiff, Kuvasz, Irish Setter, English Setter, Labrador Retriever, Cocker Spaniel, Golden Retriever]   \n",
       "4                                                                [Sealyham Terrier, Great Pyrenees, Silky Terrier, West Highland White Terrier, Dandie Dinmont, Tibetan Mastiff, Shih-Tzu, Lhasa, Tibetan Terrier, Maltese Dog]   \n",
       "5                                                                                            [American Staffordshire Terrier, Dhole, Cardigan, Dingo, Borzoi, Saluki, Norwegian Elkhound, Eskimo Dog, Malamute, Siberian Husky]   \n",
       "\n",
       "                     pred_1  \n",
       "0                  Airedale  \n",
       "1  Chesapeake Bay Retriever  \n",
       "2               Toy Terrier  \n",
       "3          Golden Retriever  \n",
       "4               Maltese Dog  \n",
       "5            Siberian Husky  "
      ]
     },
     "execution_count": 260,
     "metadata": {},
     "output_type": "execute_result"
    }
   ],
   "source": [
    "non_mixed_predictions"
   ]
  },
  {
   "cell_type": "code",
   "execution_count": null,
   "id": "1d55e386-63a2-4ee7-9d9f-e95a4d0f84b9",
   "metadata": {},
   "outputs": [],
   "source": []
  },
  {
   "cell_type": "code",
   "execution_count": null,
   "id": "40330245-c0d5-433b-bb43-5a308679fc1c",
   "metadata": {},
   "outputs": [],
   "source": []
  },
  {
   "cell_type": "code",
   "execution_count": null,
   "id": "7cbdc44a-0228-4451-99be-48aeb77cd0a3",
   "metadata": {},
   "outputs": [],
   "source": []
  }
 ],
 "metadata": {
  "kernelspec": {
   "display_name": "Python 3 (ipykernel)",
   "language": "python",
   "name": "python3"
  },
  "language_info": {
   "codemirror_mode": {
    "name": "ipython",
    "version": 3
   },
   "file_extension": ".py",
   "mimetype": "text/x-python",
   "name": "python",
   "nbconvert_exporter": "python",
   "pygments_lexer": "ipython3",
   "version": "3.9.12"
  }
 },
 "nbformat": 4,
 "nbformat_minor": 5
}
